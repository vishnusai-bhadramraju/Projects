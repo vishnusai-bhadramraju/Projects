{
 "cells": [
  {
   "cell_type": "markdown",
   "id": "cb5ea3b0-82c5-4492-be21-da84ce1a3d7a",
   "metadata": {},
   "source": [
    "# DATA LOADING"
   ]
  },
  {
   "cell_type": "markdown",
   "id": "499b6af6-505f-4471-b590-4e0de4148bf9",
   "metadata": {},
   "source": [
    "#### After initial analysis found that data contains unnecessary spaces in the json files"
   ]
  },
  {
   "cell_type": "code",
   "execution_count": 282,
   "id": "a537980b-2144-4878-aac9-d2a166d1d51b",
   "metadata": {},
   "outputs": [],
   "source": [
    "# Function for loading data that solves discrepencies \n",
    "import json\n",
    "import gzip\n",
    "import pandas as pd\n",
    "from datetime import datetime\n",
    "\n",
    "# Helper function to load gzipped JSON data\n",
    "def load_json_gz(file_path):\n",
    "    # Open the gzipped file and read lines, starting from the first valid JSON entry\n",
    "    with gzip.open(file_path, 'rt', encoding='utf-8') as file:\n",
    "        data = []\n",
    "        for line in file:\n",
    "            # Attempt to parse each line as JSON\n",
    "            try:\n",
    "                json_object = json.loads(line)\n",
    "                data.append(json_object)\n",
    "            except json.JSONDecodeError:\n",
    "                # Skip lines that are not valid JSON\n",
    "                continue\n",
    "    return data\n",
    "# Helper function to convert timestamp to datetime\n",
    "def convert_timestamp_safe(timestamp):\n",
    "    if timestamp is None:\n",
    "        return None\n",
    "    return datetime.utcfromtimestamp(timestamp / 1000)"
   ]
  },
  {
   "cell_type": "markdown",
   "id": "1716d546-5160-4a01-bf28-4f1ec0e19712",
   "metadata": {},
   "source": [
    "#### Please replace with your files data path in the below variables"
   ]
  },
  {
   "cell_type": "code",
   "execution_count": 283,
   "id": "1715ab0b-3de9-43c0-a628-47f767e7ba05",
   "metadata": {},
   "outputs": [],
   "source": [
    "from pandas import json_normalize\n",
    "# File path for users\n",
    "file_path1 = '/Users/vishnusaibhadramraju/Desktop/ASSESSMENT/users.json.gz'\n",
    "# file path for brands\n",
    "file_path2 = '/Users/vishnusaibhadramraju/Desktop/ASSESSMENT/brands.json.gz'\n",
    "#file path for receipts\n",
    "file_path3 = '/Users/vishnusaibhadramraju/Desktop/ASSESSMENT/receipts.json.gz'\n",
    "\n",
    "\n",
    "data = load_json_gz(file_path1)\n",
    "data1 = load_json_gz(file_path2)\n",
    "# Loading the users and brands tables data\n",
    "users_df = pd.json_normalize(data)\n",
    "brands_df = pd.json_normalize(data1)\n",
    "\n",
    "# The receipts table contains nearly 1119 json objects and table is much more unstructured than the above two tables\n",
    "# Load the JSON data from the receipts file\n",
    "receipts_data = load_json_gz(file_path3)\n",
    "\n",
    "# Display the first JSON object to see its structure\n",
    "receipts_sample = receipts_data[0]"
   ]
  },
  {
   "cell_type": "markdown",
   "id": "2ecff00e-9cab-44e8-a6fc-d353dd83164c",
   "metadata": {},
   "source": [
    "#### After inspection found out receipts contains two tables in it"
   ]
  },
  {
   "cell_type": "code",
   "execution_count": 284,
   "id": "2dcd1e7d-956a-47b4-a0af-77aaff747bf1",
   "metadata": {},
   "outputs": [],
   "source": [
    "# Initialize lists to store data for receipts and receipt items\n",
    "receipts = []\n",
    "receipt_items = []\n",
    "\n",
    "# Extract data for receipts and receipt items\n",
    "for record in receipts_data:\n",
    "    receipt = {\n",
    "        \"receipt_id\": record['_id']['$oid'],\n",
    "        \"user_id\": record['userId'],\n",
    "        \"create_date\": convert_timestamp_safe(record['createDate']['$date']),\n",
    "        \"date_scanned\": convert_timestamp_safe(record['dateScanned']['$date']),\n",
    "        \"finished_date\": convert_timestamp_safe(record.get('finishedDate', {}).get('$date')),\n",
    "        \"points_awarded_date\": convert_timestamp_safe(record.get('pointsAwardedDate', {}).get('$date')),\n",
    "        \"points_earned\": float(record.get('pointsEarned', 0)),\n",
    "        \"purchase_date\": convert_timestamp_safe(record.get('purchaseDate', {}).get('$date')),\n",
    "        \"purchased_item_count\": record.get('purchasedItemCount', 0),\n",
    "        \"rewards_receipt_status\": record.get('rewardsReceiptStatus', None),\n",
    "        \"total_spent\": float(record.get('totalSpent', 0))\n",
    "    }\n",
    "    receipts.append(receipt)\n",
    "    \n",
    "    for item in record.get('rewardsReceiptItemList', []):\n",
    "        receipt_item = {\n",
    "            \"receipt_id\": receipt[\"receipt_id\"],\n",
    "            \"barcode\": item.get('barcode', None),\n",
    "            \"description\": item.get('description', None),\n",
    "            \"final_price\": float(item.get('finalPrice', 0)),\n",
    "            \"item_price\": float(item.get('itemPrice', 0)),\n",
    "            \"quantity_purchased\": int(item.get('quantityPurchased', 0)),\n",
    "            \"points_earned\": float(item.get('pointsEarned', 0)),\n",
    "            \"points_not_awarded_reason\": item.get('pointsNotAwardedReason', None),\n",
    "            \"rewards_group\": item.get('rewardsGroup', None),\n",
    "            \"rewards_product_partner_id\": item.get('rewardsProductPartnerId', None)\n",
    "        }\n",
    "        receipt_items.append(receipt_item)\n",
    "\n",
    "# Convert lists to DataFrames\n",
    "receipts_df = pd.DataFrame(receipts)\n",
    "receipt_items_df = pd.DataFrame(receipt_items)\n"
   ]
  },
  {
   "cell_type": "markdown",
   "id": "f3f4b7f5-ef7e-4c3e-baef-cd9be87d1ecd",
   "metadata": {},
   "source": [
    "#### Data view of each table"
   ]
  },
  {
   "cell_type": "code",
   "execution_count": 285,
   "id": "5c0203e0-c479-4be4-8d2d-760a2fee57bd",
   "metadata": {},
   "outputs": [
    {
     "data": {
      "text/html": [
       "<div>\n",
       "<style scoped>\n",
       "    .dataframe tbody tr th:only-of-type {\n",
       "        vertical-align: middle;\n",
       "    }\n",
       "\n",
       "    .dataframe tbody tr th {\n",
       "        vertical-align: top;\n",
       "    }\n",
       "\n",
       "    .dataframe thead th {\n",
       "        text-align: right;\n",
       "    }\n",
       "</style>\n",
       "<table border=\"1\" class=\"dataframe\">\n",
       "  <thead>\n",
       "    <tr style=\"text-align: right;\">\n",
       "      <th></th>\n",
       "      <th>active</th>\n",
       "      <th>role</th>\n",
       "      <th>signUpSource</th>\n",
       "      <th>state</th>\n",
       "      <th>_id.$oid</th>\n",
       "      <th>createdDate.$date</th>\n",
       "      <th>lastLogin.$date</th>\n",
       "    </tr>\n",
       "  </thead>\n",
       "  <tbody>\n",
       "    <tr>\n",
       "      <th>0</th>\n",
       "      <td>True</td>\n",
       "      <td>consumer</td>\n",
       "      <td>Email</td>\n",
       "      <td>WI</td>\n",
       "      <td>5ff1e194b6a9d73a3a9f1052</td>\n",
       "      <td>1609687444800</td>\n",
       "      <td>1.609688e+12</td>\n",
       "    </tr>\n",
       "    <tr>\n",
       "      <th>1</th>\n",
       "      <td>True</td>\n",
       "      <td>consumer</td>\n",
       "      <td>Email</td>\n",
       "      <td>WI</td>\n",
       "      <td>5ff1e194b6a9d73a3a9f1052</td>\n",
       "      <td>1609687444800</td>\n",
       "      <td>1.609688e+12</td>\n",
       "    </tr>\n",
       "    <tr>\n",
       "      <th>2</th>\n",
       "      <td>True</td>\n",
       "      <td>consumer</td>\n",
       "      <td>Email</td>\n",
       "      <td>WI</td>\n",
       "      <td>5ff1e1eacfcf6c399c274ae6</td>\n",
       "      <td>1609687530554</td>\n",
       "      <td>1.609688e+12</td>\n",
       "    </tr>\n",
       "    <tr>\n",
       "      <th>3</th>\n",
       "      <td>True</td>\n",
       "      <td>consumer</td>\n",
       "      <td>Email</td>\n",
       "      <td>WI</td>\n",
       "      <td>5ff1e194b6a9d73a3a9f1052</td>\n",
       "      <td>1609687444800</td>\n",
       "      <td>1.609688e+12</td>\n",
       "    </tr>\n",
       "    <tr>\n",
       "      <th>4</th>\n",
       "      <td>True</td>\n",
       "      <td>consumer</td>\n",
       "      <td>Email</td>\n",
       "      <td>WI</td>\n",
       "      <td>5ff1e194b6a9d73a3a9f1052</td>\n",
       "      <td>1609687444800</td>\n",
       "      <td>1.609688e+12</td>\n",
       "    </tr>\n",
       "  </tbody>\n",
       "</table>\n",
       "</div>"
      ],
      "text/plain": [
       "   active      role signUpSource state                  _id.$oid  \\\n",
       "0    True  consumer        Email    WI  5ff1e194b6a9d73a3a9f1052   \n",
       "1    True  consumer        Email    WI  5ff1e194b6a9d73a3a9f1052   \n",
       "2    True  consumer        Email    WI  5ff1e1eacfcf6c399c274ae6   \n",
       "3    True  consumer        Email    WI  5ff1e194b6a9d73a3a9f1052   \n",
       "4    True  consumer        Email    WI  5ff1e194b6a9d73a3a9f1052   \n",
       "\n",
       "   createdDate.$date  lastLogin.$date  \n",
       "0      1609687444800     1.609688e+12  \n",
       "1      1609687444800     1.609688e+12  \n",
       "2      1609687530554     1.609688e+12  \n",
       "3      1609687444800     1.609688e+12  \n",
       "4      1609687444800     1.609688e+12  "
      ]
     },
     "execution_count": 285,
     "metadata": {},
     "output_type": "execute_result"
    }
   ],
   "source": [
    "users_df.head()"
   ]
  },
  {
   "cell_type": "code",
   "execution_count": 286,
   "id": "75b9213e-f6c6-439c-83bd-1057fb5f5cb4",
   "metadata": {},
   "outputs": [
    {
     "data": {
      "text/html": [
       "<div>\n",
       "<style scoped>\n",
       "    .dataframe tbody tr th:only-of-type {\n",
       "        vertical-align: middle;\n",
       "    }\n",
       "\n",
       "    .dataframe tbody tr th {\n",
       "        vertical-align: top;\n",
       "    }\n",
       "\n",
       "    .dataframe thead th {\n",
       "        text-align: right;\n",
       "    }\n",
       "</style>\n",
       "<table border=\"1\" class=\"dataframe\">\n",
       "  <thead>\n",
       "    <tr style=\"text-align: right;\">\n",
       "      <th></th>\n",
       "      <th>barcode</th>\n",
       "      <th>category</th>\n",
       "      <th>categoryCode</th>\n",
       "      <th>name</th>\n",
       "      <th>topBrand</th>\n",
       "      <th>_id.$oid</th>\n",
       "      <th>cpg.$id.$oid</th>\n",
       "      <th>cpg.$ref</th>\n",
       "      <th>brandCode</th>\n",
       "    </tr>\n",
       "  </thead>\n",
       "  <tbody>\n",
       "    <tr>\n",
       "      <th>0</th>\n",
       "      <td>511111019862</td>\n",
       "      <td>Baking</td>\n",
       "      <td>BAKING</td>\n",
       "      <td>test brand @1612366101024</td>\n",
       "      <td>False</td>\n",
       "      <td>601ac115be37ce2ead437551</td>\n",
       "      <td>601ac114be37ce2ead437550</td>\n",
       "      <td>Cogs</td>\n",
       "      <td>NaN</td>\n",
       "    </tr>\n",
       "    <tr>\n",
       "      <th>1</th>\n",
       "      <td>511111519928</td>\n",
       "      <td>Beverages</td>\n",
       "      <td>BEVERAGES</td>\n",
       "      <td>Starbucks</td>\n",
       "      <td>False</td>\n",
       "      <td>601c5460be37ce2ead43755f</td>\n",
       "      <td>5332f5fbe4b03c9a25efd0ba</td>\n",
       "      <td>Cogs</td>\n",
       "      <td>STARBUCKS</td>\n",
       "    </tr>\n",
       "    <tr>\n",
       "      <th>2</th>\n",
       "      <td>511111819905</td>\n",
       "      <td>Baking</td>\n",
       "      <td>BAKING</td>\n",
       "      <td>test brand @1612366146176</td>\n",
       "      <td>False</td>\n",
       "      <td>601ac142be37ce2ead43755d</td>\n",
       "      <td>601ac142be37ce2ead437559</td>\n",
       "      <td>Cogs</td>\n",
       "      <td>TEST BRANDCODE @1612366146176</td>\n",
       "    </tr>\n",
       "    <tr>\n",
       "      <th>3</th>\n",
       "      <td>511111519874</td>\n",
       "      <td>Baking</td>\n",
       "      <td>BAKING</td>\n",
       "      <td>test brand @1612366146051</td>\n",
       "      <td>False</td>\n",
       "      <td>601ac142be37ce2ead43755a</td>\n",
       "      <td>601ac142be37ce2ead437559</td>\n",
       "      <td>Cogs</td>\n",
       "      <td>TEST BRANDCODE @1612366146051</td>\n",
       "    </tr>\n",
       "    <tr>\n",
       "      <th>4</th>\n",
       "      <td>511111319917</td>\n",
       "      <td>Candy &amp; Sweets</td>\n",
       "      <td>CANDY_AND_SWEETS</td>\n",
       "      <td>test brand @1612366146827</td>\n",
       "      <td>False</td>\n",
       "      <td>601ac142be37ce2ead43755e</td>\n",
       "      <td>5332fa12e4b03c9a25efd1e7</td>\n",
       "      <td>Cogs</td>\n",
       "      <td>TEST BRANDCODE @1612366146827</td>\n",
       "    </tr>\n",
       "  </tbody>\n",
       "</table>\n",
       "</div>"
      ],
      "text/plain": [
       "        barcode        category      categoryCode                       name  \\\n",
       "0  511111019862          Baking            BAKING  test brand @1612366101024   \n",
       "1  511111519928       Beverages         BEVERAGES                  Starbucks   \n",
       "2  511111819905          Baking            BAKING  test brand @1612366146176   \n",
       "3  511111519874          Baking            BAKING  test brand @1612366146051   \n",
       "4  511111319917  Candy & Sweets  CANDY_AND_SWEETS  test brand @1612366146827   \n",
       "\n",
       "  topBrand                  _id.$oid              cpg.$id.$oid cpg.$ref  \\\n",
       "0    False  601ac115be37ce2ead437551  601ac114be37ce2ead437550     Cogs   \n",
       "1    False  601c5460be37ce2ead43755f  5332f5fbe4b03c9a25efd0ba     Cogs   \n",
       "2    False  601ac142be37ce2ead43755d  601ac142be37ce2ead437559     Cogs   \n",
       "3    False  601ac142be37ce2ead43755a  601ac142be37ce2ead437559     Cogs   \n",
       "4    False  601ac142be37ce2ead43755e  5332fa12e4b03c9a25efd1e7     Cogs   \n",
       "\n",
       "                       brandCode  \n",
       "0                            NaN  \n",
       "1                      STARBUCKS  \n",
       "2  TEST BRANDCODE @1612366146176  \n",
       "3  TEST BRANDCODE @1612366146051  \n",
       "4  TEST BRANDCODE @1612366146827  "
      ]
     },
     "execution_count": 286,
     "metadata": {},
     "output_type": "execute_result"
    }
   ],
   "source": [
    "brands_df.head()"
   ]
  },
  {
   "cell_type": "code",
   "execution_count": 287,
   "id": "bb25f240-270c-41d3-b2f0-97a634bf2b72",
   "metadata": {},
   "outputs": [
    {
     "data": {
      "text/html": [
       "<div>\n",
       "<style scoped>\n",
       "    .dataframe tbody tr th:only-of-type {\n",
       "        vertical-align: middle;\n",
       "    }\n",
       "\n",
       "    .dataframe tbody tr th {\n",
       "        vertical-align: top;\n",
       "    }\n",
       "\n",
       "    .dataframe thead th {\n",
       "        text-align: right;\n",
       "    }\n",
       "</style>\n",
       "<table border=\"1\" class=\"dataframe\">\n",
       "  <thead>\n",
       "    <tr style=\"text-align: right;\">\n",
       "      <th></th>\n",
       "      <th>receipt_id</th>\n",
       "      <th>user_id</th>\n",
       "      <th>create_date</th>\n",
       "      <th>date_scanned</th>\n",
       "      <th>finished_date</th>\n",
       "      <th>points_awarded_date</th>\n",
       "      <th>points_earned</th>\n",
       "      <th>purchase_date</th>\n",
       "      <th>purchased_item_count</th>\n",
       "      <th>rewards_receipt_status</th>\n",
       "      <th>total_spent</th>\n",
       "    </tr>\n",
       "  </thead>\n",
       "  <tbody>\n",
       "    <tr>\n",
       "      <th>0</th>\n",
       "      <td>5ff1e1eb0a720f0523000575</td>\n",
       "      <td>5ff1e1eacfcf6c399c274ae6</td>\n",
       "      <td>2021-01-03 15:25:31</td>\n",
       "      <td>2021-01-03 15:25:31</td>\n",
       "      <td>2021-01-03 15:25:31</td>\n",
       "      <td>2021-01-03 15:25:31</td>\n",
       "      <td>500.0</td>\n",
       "      <td>2021-01-03 00:00:00</td>\n",
       "      <td>5</td>\n",
       "      <td>FINISHED</td>\n",
       "      <td>26.0</td>\n",
       "    </tr>\n",
       "    <tr>\n",
       "      <th>1</th>\n",
       "      <td>5ff1e1bb0a720f052300056b</td>\n",
       "      <td>5ff1e194b6a9d73a3a9f1052</td>\n",
       "      <td>2021-01-03 15:24:43</td>\n",
       "      <td>2021-01-03 15:24:43</td>\n",
       "      <td>2021-01-03 15:24:43</td>\n",
       "      <td>2021-01-03 15:24:43</td>\n",
       "      <td>150.0</td>\n",
       "      <td>2021-01-02 15:24:43</td>\n",
       "      <td>2</td>\n",
       "      <td>FINISHED</td>\n",
       "      <td>11.0</td>\n",
       "    </tr>\n",
       "    <tr>\n",
       "      <th>2</th>\n",
       "      <td>5ff1e1f10a720f052300057a</td>\n",
       "      <td>5ff1e1f1cfcf6c399c274b0b</td>\n",
       "      <td>2021-01-03 15:25:37</td>\n",
       "      <td>2021-01-03 15:25:37</td>\n",
       "      <td>NaT</td>\n",
       "      <td>NaT</td>\n",
       "      <td>5.0</td>\n",
       "      <td>2021-01-03 00:00:00</td>\n",
       "      <td>1</td>\n",
       "      <td>REJECTED</td>\n",
       "      <td>10.0</td>\n",
       "    </tr>\n",
       "    <tr>\n",
       "      <th>3</th>\n",
       "      <td>5ff1e1ee0a7214ada100056f</td>\n",
       "      <td>5ff1e1eacfcf6c399c274ae6</td>\n",
       "      <td>2021-01-03 15:25:34</td>\n",
       "      <td>2021-01-03 15:25:34</td>\n",
       "      <td>2021-01-03 15:25:34</td>\n",
       "      <td>2021-01-03 15:25:34</td>\n",
       "      <td>5.0</td>\n",
       "      <td>2021-01-03 00:00:00</td>\n",
       "      <td>4</td>\n",
       "      <td>FINISHED</td>\n",
       "      <td>28.0</td>\n",
       "    </tr>\n",
       "    <tr>\n",
       "      <th>4</th>\n",
       "      <td>5ff1e1d20a7214ada1000561</td>\n",
       "      <td>5ff1e194b6a9d73a3a9f1052</td>\n",
       "      <td>2021-01-03 15:25:06</td>\n",
       "      <td>2021-01-03 15:25:06</td>\n",
       "      <td>2021-01-03 15:25:11</td>\n",
       "      <td>2021-01-03 15:25:06</td>\n",
       "      <td>5.0</td>\n",
       "      <td>2021-01-02 15:25:06</td>\n",
       "      <td>2</td>\n",
       "      <td>FINISHED</td>\n",
       "      <td>1.0</td>\n",
       "    </tr>\n",
       "  </tbody>\n",
       "</table>\n",
       "</div>"
      ],
      "text/plain": [
       "                 receipt_id                   user_id         create_date  \\\n",
       "0  5ff1e1eb0a720f0523000575  5ff1e1eacfcf6c399c274ae6 2021-01-03 15:25:31   \n",
       "1  5ff1e1bb0a720f052300056b  5ff1e194b6a9d73a3a9f1052 2021-01-03 15:24:43   \n",
       "2  5ff1e1f10a720f052300057a  5ff1e1f1cfcf6c399c274b0b 2021-01-03 15:25:37   \n",
       "3  5ff1e1ee0a7214ada100056f  5ff1e1eacfcf6c399c274ae6 2021-01-03 15:25:34   \n",
       "4  5ff1e1d20a7214ada1000561  5ff1e194b6a9d73a3a9f1052 2021-01-03 15:25:06   \n",
       "\n",
       "         date_scanned       finished_date points_awarded_date  points_earned  \\\n",
       "0 2021-01-03 15:25:31 2021-01-03 15:25:31 2021-01-03 15:25:31          500.0   \n",
       "1 2021-01-03 15:24:43 2021-01-03 15:24:43 2021-01-03 15:24:43          150.0   \n",
       "2 2021-01-03 15:25:37                 NaT                 NaT            5.0   \n",
       "3 2021-01-03 15:25:34 2021-01-03 15:25:34 2021-01-03 15:25:34            5.0   \n",
       "4 2021-01-03 15:25:06 2021-01-03 15:25:11 2021-01-03 15:25:06            5.0   \n",
       "\n",
       "        purchase_date  purchased_item_count rewards_receipt_status  \\\n",
       "0 2021-01-03 00:00:00                     5               FINISHED   \n",
       "1 2021-01-02 15:24:43                     2               FINISHED   \n",
       "2 2021-01-03 00:00:00                     1               REJECTED   \n",
       "3 2021-01-03 00:00:00                     4               FINISHED   \n",
       "4 2021-01-02 15:25:06                     2               FINISHED   \n",
       "\n",
       "   total_spent  \n",
       "0         26.0  \n",
       "1         11.0  \n",
       "2         10.0  \n",
       "3         28.0  \n",
       "4          1.0  "
      ]
     },
     "execution_count": 287,
     "metadata": {},
     "output_type": "execute_result"
    }
   ],
   "source": [
    "receipts_df.head()"
   ]
  },
  {
   "cell_type": "code",
   "execution_count": 288,
   "id": "3f0e556f-13af-42fb-b4ab-2b318b913c5d",
   "metadata": {},
   "outputs": [
    {
     "data": {
      "text/html": [
       "<div>\n",
       "<style scoped>\n",
       "    .dataframe tbody tr th:only-of-type {\n",
       "        vertical-align: middle;\n",
       "    }\n",
       "\n",
       "    .dataframe tbody tr th {\n",
       "        vertical-align: top;\n",
       "    }\n",
       "\n",
       "    .dataframe thead th {\n",
       "        text-align: right;\n",
       "    }\n",
       "</style>\n",
       "<table border=\"1\" class=\"dataframe\">\n",
       "  <thead>\n",
       "    <tr style=\"text-align: right;\">\n",
       "      <th></th>\n",
       "      <th>receipt_id</th>\n",
       "      <th>barcode</th>\n",
       "      <th>description</th>\n",
       "      <th>final_price</th>\n",
       "      <th>item_price</th>\n",
       "      <th>quantity_purchased</th>\n",
       "      <th>points_earned</th>\n",
       "      <th>points_not_awarded_reason</th>\n",
       "      <th>rewards_group</th>\n",
       "      <th>rewards_product_partner_id</th>\n",
       "    </tr>\n",
       "  </thead>\n",
       "  <tbody>\n",
       "    <tr>\n",
       "      <th>0</th>\n",
       "      <td>5ff1e1eb0a720f0523000575</td>\n",
       "      <td>4011</td>\n",
       "      <td>ITEM NOT FOUND</td>\n",
       "      <td>26.0</td>\n",
       "      <td>26.0</td>\n",
       "      <td>5</td>\n",
       "      <td>0.0</td>\n",
       "      <td>None</td>\n",
       "      <td>None</td>\n",
       "      <td>None</td>\n",
       "    </tr>\n",
       "    <tr>\n",
       "      <th>1</th>\n",
       "      <td>5ff1e1bb0a720f052300056b</td>\n",
       "      <td>4011</td>\n",
       "      <td>ITEM NOT FOUND</td>\n",
       "      <td>1.0</td>\n",
       "      <td>1.0</td>\n",
       "      <td>1</td>\n",
       "      <td>0.0</td>\n",
       "      <td>None</td>\n",
       "      <td>None</td>\n",
       "      <td>None</td>\n",
       "    </tr>\n",
       "    <tr>\n",
       "      <th>2</th>\n",
       "      <td>5ff1e1bb0a720f052300056b</td>\n",
       "      <td>028400642255</td>\n",
       "      <td>DORITOS TORTILLA CHIP SPICY SWEET CHILI REDUCE...</td>\n",
       "      <td>10.0</td>\n",
       "      <td>10.0</td>\n",
       "      <td>1</td>\n",
       "      <td>0.0</td>\n",
       "      <td>Action not allowed for user and CPG</td>\n",
       "      <td>DORITOS SPICY SWEET CHILI SINGLE SERVE</td>\n",
       "      <td>5332f5fbe4b03c9a25efd0ba</td>\n",
       "    </tr>\n",
       "    <tr>\n",
       "      <th>3</th>\n",
       "      <td>5ff1e1f10a720f052300057a</td>\n",
       "      <td>None</td>\n",
       "      <td>None</td>\n",
       "      <td>0.0</td>\n",
       "      <td>0.0</td>\n",
       "      <td>0</td>\n",
       "      <td>0.0</td>\n",
       "      <td>None</td>\n",
       "      <td>None</td>\n",
       "      <td>None</td>\n",
       "    </tr>\n",
       "    <tr>\n",
       "      <th>4</th>\n",
       "      <td>5ff1e1ee0a7214ada100056f</td>\n",
       "      <td>4011</td>\n",
       "      <td>ITEM NOT FOUND</td>\n",
       "      <td>28.0</td>\n",
       "      <td>28.0</td>\n",
       "      <td>4</td>\n",
       "      <td>0.0</td>\n",
       "      <td>None</td>\n",
       "      <td>None</td>\n",
       "      <td>None</td>\n",
       "    </tr>\n",
       "  </tbody>\n",
       "</table>\n",
       "</div>"
      ],
      "text/plain": [
       "                 receipt_id       barcode  \\\n",
       "0  5ff1e1eb0a720f0523000575          4011   \n",
       "1  5ff1e1bb0a720f052300056b          4011   \n",
       "2  5ff1e1bb0a720f052300056b  028400642255   \n",
       "3  5ff1e1f10a720f052300057a          None   \n",
       "4  5ff1e1ee0a7214ada100056f          4011   \n",
       "\n",
       "                                         description  final_price  item_price  \\\n",
       "0                                     ITEM NOT FOUND         26.0        26.0   \n",
       "1                                     ITEM NOT FOUND          1.0         1.0   \n",
       "2  DORITOS TORTILLA CHIP SPICY SWEET CHILI REDUCE...         10.0        10.0   \n",
       "3                                               None          0.0         0.0   \n",
       "4                                     ITEM NOT FOUND         28.0        28.0   \n",
       "\n",
       "   quantity_purchased  points_earned            points_not_awarded_reason  \\\n",
       "0                   5            0.0                                 None   \n",
       "1                   1            0.0                                 None   \n",
       "2                   1            0.0  Action not allowed for user and CPG   \n",
       "3                   0            0.0                                 None   \n",
       "4                   4            0.0                                 None   \n",
       "\n",
       "                            rewards_group rewards_product_partner_id  \n",
       "0                                    None                       None  \n",
       "1                                    None                       None  \n",
       "2  DORITOS SPICY SWEET CHILI SINGLE SERVE   5332f5fbe4b03c9a25efd0ba  \n",
       "3                                    None                       None  \n",
       "4                                    None                       None  "
      ]
     },
     "execution_count": 288,
     "metadata": {},
     "output_type": "execute_result"
    }
   ],
   "source": [
    "receipt_items_df.head()"
   ]
  },
  {
   "cell_type": "markdown",
   "id": "878aa49e-5519-4b7d-8c18-0b2179314991",
   "metadata": {},
   "source": [
    "# Data Cleaning"
   ]
  },
  {
   "cell_type": "code",
   "execution_count": 289,
   "id": "74099d4e-fbbe-4ca9-a063-f0d13d50a1b3",
   "metadata": {},
   "outputs": [
    {
     "data": {
      "text/plain": [
       "Index(['active', 'role', 'signUpSource', 'state', '_id.$oid',\n",
       "       'createdDate.$date', 'lastLogin.$date'],\n",
       "      dtype='object')"
      ]
     },
     "execution_count": 289,
     "metadata": {},
     "output_type": "execute_result"
    }
   ],
   "source": [
    "#Users data \n",
    "users_df.columns"
   ]
  },
  {
   "cell_type": "code",
   "execution_count": 290,
   "id": "65c5b99e-adcd-4d5c-ac36-d612572acb8f",
   "metadata": {},
   "outputs": [],
   "source": [
    "# Clean up DataFrame column names\n",
    "users_df.columns = users_df.columns.str.replace('.$', '')"
   ]
  },
  {
   "cell_type": "code",
   "execution_count": 291,
   "id": "6bd821e8-7b51-467a-acfb-f46ebf594d08",
   "metadata": {},
   "outputs": [],
   "source": [
    "users_df = users_df.rename(columns={\n",
    "    '_idoid': 'user_id',\n",
    "    'createdDatedate': 'created_date',\n",
    "    'lastLogindate': 'last_login',\n",
    "    'role': 'role',\n",
    "    'signUpSource': 'signup_source',\n",
    "    'state': 'state'\n",
    "})"
   ]
  },
  {
   "cell_type": "code",
   "execution_count": 292,
   "id": "4e4287e0-1587-49b6-98df-42c26ee32f86",
   "metadata": {},
   "outputs": [
    {
     "name": "stdout",
     "output_type": "stream",
     "text": [
      "<class 'pandas.core.frame.DataFrame'>\n",
      "RangeIndex: 494 entries, 0 to 493\n",
      "Data columns (total 7 columns):\n",
      " #   Column         Non-Null Count  Dtype  \n",
      "---  ------         --------------  -----  \n",
      " 0   active         494 non-null    bool   \n",
      " 1   role           494 non-null    object \n",
      " 2   signup_source  446 non-null    object \n",
      " 3   state          438 non-null    object \n",
      " 4   user_id        494 non-null    object \n",
      " 5   created_date   494 non-null    int64  \n",
      " 6   last_login     432 non-null    float64\n",
      "dtypes: bool(1), float64(1), int64(1), object(4)\n",
      "memory usage: 23.8+ KB\n"
     ]
    }
   ],
   "source": [
    "users_df.info()"
   ]
  },
  {
   "cell_type": "code",
   "execution_count": 293,
   "id": "d27a783f-b06a-4591-a962-529f88a0b75c",
   "metadata": {},
   "outputs": [],
   "source": [
    "users_df['created_date'] = pd.to_datetime(users_df['created_date'], unit='ms',errors='coerce')\n",
    "users_df['last_login'] = pd.to_datetime(users_df['last_login'], unit='ms',errors='coerce')# converting NaT to Null since postgres wont accept NaT\n"
   ]
  },
  {
   "cell_type": "code",
   "execution_count": 294,
   "id": "cb9337c0-731b-4317-a40c-f775a7345582",
   "metadata": {},
   "outputs": [
    {
     "name": "stderr",
     "output_type": "stream",
     "text": [
      "/var/folders/tg/vkj956ss1b108j97r7gcts7r0000gn/T/ipykernel_50642/2499856600.py:2: FutureWarning: Setting an item of incompatible dtype is deprecated and will raise in a future error of pandas. Value 'NULL' has dtype incompatible with datetime64[ns], please explicitly cast to a compatible dtype first.\n",
      "  users_df['last_login'].fillna('NULL',inplace = True)\n"
     ]
    }
   ],
   "source": [
    "# Converting NaT values in timestamp fields to NULL since postgresql only accepts NULL\n",
    "users_df['last_login'].fillna('NULL',inplace = True)"
   ]
  },
  {
   "cell_type": "code",
   "execution_count": 295,
   "id": "a91a89e0-d118-4814-b3d8-4a8c537e49a1",
   "metadata": {},
   "outputs": [
    {
     "data": {
      "text/plain": [
       "Index(['barcode', 'category', 'categoryCode', 'name', 'topBrand', '_id.$oid',\n",
       "       'cpg.$id.$oid', 'cpg.$ref', 'brandCode'],\n",
       "      dtype='object')"
      ]
     },
     "execution_count": 295,
     "metadata": {},
     "output_type": "execute_result"
    }
   ],
   "source": [
    "#Brands tables\n",
    "brands_df.columns"
   ]
  },
  {
   "cell_type": "code",
   "execution_count": 296,
   "id": "559bcb23-3a91-4f81-87be-79da8cf81746",
   "metadata": {},
   "outputs": [],
   "source": [
    "# Clean up DataFrame column names\n",
    "brands_df.columns = brands_df.columns.str.replace('.$', '')"
   ]
  },
  {
   "cell_type": "code",
   "execution_count": 297,
   "id": "48eb324d-95ed-4b0e-83db-7881540e299a",
   "metadata": {},
   "outputs": [],
   "source": [
    "brands_df = brands_df.rename(columns={\n",
    "    'barcode': 'barcode',\n",
    "    'category': 'category',\n",
    "    'categoryCode': 'category_code',\n",
    "    'name': 'brand_name',\n",
    "    'topBrand': 'top_brand',\n",
    "    '_idoid': 'brand_id',\n",
    "    'cpgidoid': 'cpg_id',\n",
    "    'cpg.$ref': 'cpg_ref',\n",
    "    'brandCode': 'brand_code'\n",
    "})"
   ]
  },
  {
   "cell_type": "code",
   "execution_count": 298,
   "id": "f7b41af7-6d0e-462d-b389-15d8219972c0",
   "metadata": {},
   "outputs": [],
   "source": [
    "brands_df['top_brand'].fillna('NULL', inplace = True)"
   ]
  },
  {
   "cell_type": "code",
   "execution_count": null,
   "id": "ebf1c7c4-0693-4b14-9b20-c4a054e88a1a",
   "metadata": {},
   "outputs": [],
   "source": []
  },
  {
   "cell_type": "markdown",
   "id": "cae62a38-8acd-4e47-a168-279a356ae147",
   "metadata": {},
   "source": [
    "## DATA QUALITY CHECKS "
   ]
  },
  {
   "cell_type": "markdown",
   "id": "4b27f63d-2b31-499e-b204-98aacd7b2f5c",
   "metadata": {},
   "source": [
    "### Missing Values"
   ]
  },
  {
   "cell_type": "code",
   "execution_count": 299,
   "id": "e9c3c6f9-6b08-40f1-a440-d2e9b1f8466b",
   "metadata": {},
   "outputs": [
    {
     "data": {
      "text/plain": [
       "active            0\n",
       "role              0\n",
       "signup_source    48\n",
       "state            56\n",
       "user_id           0\n",
       "created_date      0\n",
       "last_login        0\n",
       "dtype: int64"
      ]
     },
     "execution_count": 299,
     "metadata": {},
     "output_type": "execute_result"
    }
   ],
   "source": [
    "# Missing Values\n",
    "users_df.isnull().sum()"
   ]
  },
  {
   "cell_type": "code",
   "execution_count": null,
   "id": "5f816316-1083-4580-94d5-ad8b8ff007dd",
   "metadata": {},
   "outputs": [],
   "source": []
  },
  {
   "cell_type": "code",
   "execution_count": 300,
   "id": "6aa9a096-71ef-4ec3-a1cc-b4efc8c89586",
   "metadata": {},
   "outputs": [
    {
     "data": {
      "text/plain": [
       "(494, 7)"
      ]
     },
     "execution_count": 300,
     "metadata": {},
     "output_type": "execute_result"
    }
   ],
   "source": [
    "#Lets Inspect \n",
    "users_df.shape"
   ]
  },
  {
   "cell_type": "markdown",
   "id": "399fb326-6c4c-44d9-93ed-ce45282e7e88",
   "metadata": {},
   "source": [
    "### Uniqueness"
   ]
  },
  {
   "cell_type": "code",
   "execution_count": 301,
   "id": "a368f874-6d15-4388-be82-32e5f9ea82a4",
   "metadata": {},
   "outputs": [
    {
     "data": {
      "text/plain": [
       "active             2\n",
       "role               2\n",
       "signup_source      2\n",
       "state              8\n",
       "user_id          212\n",
       "created_date     212\n",
       "last_login       173\n",
       "dtype: int64"
      ]
     },
     "execution_count": 301,
     "metadata": {},
     "output_type": "execute_result"
    }
   ],
   "source": [
    "users_df.nunique()"
   ]
  },
  {
   "cell_type": "markdown",
   "id": "d493290e-4b35-4e66-b8c8-236f1ff9e0db",
   "metadata": {},
   "source": [
    "### Duplicates "
   ]
  },
  {
   "cell_type": "code",
   "execution_count": 302,
   "id": "b51d112e-6d77-4721-87ac-ee11c76eef27",
   "metadata": {},
   "outputs": [
    {
     "data": {
      "text/plain": [
       "user_id\n",
       "54943462e4b07e684157a532    20\n",
       "5fc961c3b8cfca11a077dd33    20\n",
       "5ff5d15aeb7c7d12096d91a2    18\n",
       "5fa41775898c7a11a6bcef3e    18\n",
       "59c124bae4b0299e55b0f330    18\n",
       "                            ..\n",
       "6004a965e257124ec6b9a39f     1\n",
       "600746fd6e64691717e8cfb5     1\n",
       "60074b996e64691717e8f11a     1\n",
       "60074246325c8a12289e22a0     1\n",
       "60088e5d633aab121bb8e5cf     1\n",
       "Name: count, Length: 212, dtype: int64"
      ]
     },
     "execution_count": 302,
     "metadata": {},
     "output_type": "execute_result"
    }
   ],
   "source": [
    "#  lets check uniqueness\n",
    "users_df.user_id.value_counts()"
   ]
  },
  {
   "cell_type": "code",
   "execution_count": 303,
   "id": "2cda18c2-0341-409d-a63b-c58f355f42dd",
   "metadata": {},
   "outputs": [],
   "source": [
    "# lets clear duplicates \n",
    "users_df.drop_duplicates(subset='user_id', inplace = True)"
   ]
  },
  {
   "cell_type": "code",
   "execution_count": 304,
   "id": "4bbfd691-eeec-4a10-bff6-a2126b9a0dfe",
   "metadata": {},
   "outputs": [
    {
     "data": {
      "text/plain": [
       "active             2\n",
       "role               2\n",
       "signup_source      2\n",
       "state              8\n",
       "user_id          212\n",
       "created_date     212\n",
       "last_login       173\n",
       "dtype: int64"
      ]
     },
     "execution_count": 304,
     "metadata": {},
     "output_type": "execute_result"
    }
   ],
   "source": [
    "users_df.nunique()"
   ]
  },
  {
   "cell_type": "code",
   "execution_count": 305,
   "id": "5dfa86bd-81a5-439d-ab06-1fc828e21d0c",
   "metadata": {},
   "outputs": [
    {
     "data": {
      "text/plain": [
       "(212, 7)"
      ]
     },
     "execution_count": 305,
     "metadata": {},
     "output_type": "execute_result"
    }
   ],
   "source": [
    "users_df.shape"
   ]
  },
  {
   "cell_type": "markdown",
   "id": "e8efbff6-9d2f-4860-a753-2edd46c81584",
   "metadata": {},
   "source": [
    "### Solution for filling NaN\n",
    "### We can drop since me may loose the unique user\n",
    "### We can fill with backfill or ffill or most frequent, im using most frequent fill"
   ]
  },
  {
   "cell_type": "code",
   "execution_count": 306,
   "id": "e21df30d-b860-455b-bcea-d2df23dd5544",
   "metadata": {},
   "outputs": [],
   "source": [
    "#We can fill with backfill or ffill or most frequent but i want to keept it like this"
   ]
  },
  {
   "cell_type": "code",
   "execution_count": 307,
   "id": "1a7ce803-f7cc-43d0-ae2b-0dcd953c5a71",
   "metadata": {},
   "outputs": [],
   "source": [
    "most_frequent_signup = users_df['signup_source'].mode()[0]\n",
    "most_frequent_state = users_df['state'].mode()[0]"
   ]
  },
  {
   "cell_type": "code",
   "execution_count": 308,
   "id": "0f223810-4aed-443e-acbb-29a6b942cc17",
   "metadata": {},
   "outputs": [],
   "source": [
    "users_df.signup_source.fillna(most_frequent_signup, inplace = True)\n",
    "users_df.state.fillna(most_frequent_state, inplace = True)"
   ]
  },
  {
   "cell_type": "code",
   "execution_count": 309,
   "id": "d90a749e-a073-4dd8-866d-9e6f09f157e4",
   "metadata": {},
   "outputs": [
    {
     "data": {
      "text/plain": [
       "active           0\n",
       "role             0\n",
       "signup_source    0\n",
       "state            0\n",
       "user_id          0\n",
       "created_date     0\n",
       "last_login       0\n",
       "dtype: int64"
      ]
     },
     "execution_count": 309,
     "metadata": {},
     "output_type": "execute_result"
    }
   ],
   "source": [
    "users_df.isnull().sum()"
   ]
  },
  {
   "cell_type": "code",
   "execution_count": 310,
   "id": "36e21a18-1f4f-4312-b1e7-1b7b7cd1c1d9",
   "metadata": {},
   "outputs": [
    {
     "data": {
      "text/plain": [
       "(1167, 9)"
      ]
     },
     "execution_count": 310,
     "metadata": {},
     "output_type": "execute_result"
    }
   ],
   "source": [
    "brands_df.shape"
   ]
  },
  {
   "cell_type": "code",
   "execution_count": 311,
   "id": "31598031-74b2-4cf0-bcd6-e39367d79b7c",
   "metadata": {},
   "outputs": [
    {
     "data": {
      "text/plain": [
       "barcode            0\n",
       "category         155\n",
       "category_code    650\n",
       "brand_name         0\n",
       "top_brand          0\n",
       "brand_id           0\n",
       "cpg_id             0\n",
       "cpgref             0\n",
       "brand_code       234\n",
       "dtype: int64"
      ]
     },
     "execution_count": 311,
     "metadata": {},
     "output_type": "execute_result"
    }
   ],
   "source": [
    "brands_df.isnull().sum()"
   ]
  },
  {
   "cell_type": "code",
   "execution_count": 312,
   "id": "a0134dd0-6a77-400f-952a-b700a79d3dbe",
   "metadata": {},
   "outputs": [
    {
     "data": {
      "text/plain": [
       "barcode          1160\n",
       "category           23\n",
       "category_code      14\n",
       "brand_name       1156\n",
       "top_brand           3\n",
       "brand_id         1167\n",
       "cpg_id            196\n",
       "cpgref              2\n",
       "brand_code        897\n",
       "dtype: int64"
      ]
     },
     "execution_count": 312,
     "metadata": {},
     "output_type": "execute_result"
    }
   ],
   "source": [
    "brands_df.nunique()"
   ]
  },
  {
   "cell_type": "code",
   "execution_count": 313,
   "id": "7ac46f07-a760-4081-8d09-055ff31e9047",
   "metadata": {},
   "outputs": [],
   "source": [
    "# We found that we have duplicated brands name and barcode lets fix this\n",
    "brand_name_counts = brands_df.groupby('brand_name')['brand_id'].count().reset_index()"
   ]
  },
  {
   "cell_type": "code",
   "execution_count": 314,
   "id": "4b2c1d52-64b8-4fe5-b5ce-9508653176f2",
   "metadata": {},
   "outputs": [
    {
     "data": {
      "text/html": [
       "<div>\n",
       "<style scoped>\n",
       "    .dataframe tbody tr th:only-of-type {\n",
       "        vertical-align: middle;\n",
       "    }\n",
       "\n",
       "    .dataframe tbody tr th {\n",
       "        vertical-align: top;\n",
       "    }\n",
       "\n",
       "    .dataframe thead th {\n",
       "        text-align: right;\n",
       "    }\n",
       "</style>\n",
       "<table border=\"1\" class=\"dataframe\">\n",
       "  <thead>\n",
       "    <tr style=\"text-align: right;\">\n",
       "      <th></th>\n",
       "      <th>brand_name</th>\n",
       "      <th>brand_id</th>\n",
       "    </tr>\n",
       "  </thead>\n",
       "  <tbody>\n",
       "    <tr>\n",
       "      <th>0</th>\n",
       "      <td>.</td>\n",
       "      <td>1</td>\n",
       "    </tr>\n",
       "    <tr>\n",
       "      <th>1</th>\n",
       "      <td>1915 Bolthouse Farms</td>\n",
       "      <td>1</td>\n",
       "    </tr>\n",
       "    <tr>\n",
       "      <th>2</th>\n",
       "      <td>1_KRAFT Hockeyville</td>\n",
       "      <td>1</td>\n",
       "    </tr>\n",
       "    <tr>\n",
       "      <th>3</th>\n",
       "      <td>7 up</td>\n",
       "      <td>1</td>\n",
       "    </tr>\n",
       "    <tr>\n",
       "      <th>4</th>\n",
       "      <td>A&amp;W Rootbeer</td>\n",
       "      <td>1</td>\n",
       "    </tr>\n",
       "    <tr>\n",
       "      <th>...</th>\n",
       "      <td>...</td>\n",
       "      <td>...</td>\n",
       "    </tr>\n",
       "    <tr>\n",
       "      <th>1151</th>\n",
       "      <td>test brand @1612366146091</td>\n",
       "      <td>1</td>\n",
       "    </tr>\n",
       "    <tr>\n",
       "      <th>1152</th>\n",
       "      <td>test brand @1612366146133</td>\n",
       "      <td>1</td>\n",
       "    </tr>\n",
       "    <tr>\n",
       "      <th>1153</th>\n",
       "      <td>test brand @1612366146176</td>\n",
       "      <td>1</td>\n",
       "    </tr>\n",
       "    <tr>\n",
       "      <th>1154</th>\n",
       "      <td>test brand @1612366146827</td>\n",
       "      <td>1</td>\n",
       "    </tr>\n",
       "    <tr>\n",
       "      <th>1155</th>\n",
       "      <td>test brand @1613158231643</td>\n",
       "      <td>1</td>\n",
       "    </tr>\n",
       "  </tbody>\n",
       "</table>\n",
       "<p>1156 rows × 2 columns</p>\n",
       "</div>"
      ],
      "text/plain": [
       "                     brand_name  brand_id\n",
       "0                             .         1\n",
       "1          1915 Bolthouse Farms         1\n",
       "2           1_KRAFT Hockeyville         1\n",
       "3                          7 up         1\n",
       "4                  A&W Rootbeer         1\n",
       "...                         ...       ...\n",
       "1151  test brand @1612366146091         1\n",
       "1152  test brand @1612366146133         1\n",
       "1153  test brand @1612366146176         1\n",
       "1154  test brand @1612366146827         1\n",
       "1155  test brand @1613158231643         1\n",
       "\n",
       "[1156 rows x 2 columns]"
      ]
     },
     "execution_count": 314,
     "metadata": {},
     "output_type": "execute_result"
    }
   ],
   "source": [
    "brand_name_counts"
   ]
  },
  {
   "cell_type": "code",
   "execution_count": 315,
   "id": "8c32bb3d-5dd3-4a9c-95a2-c5305647d399",
   "metadata": {},
   "outputs": [
    {
     "data": {
      "text/html": [
       "<div>\n",
       "<style scoped>\n",
       "    .dataframe tbody tr th:only-of-type {\n",
       "        vertical-align: middle;\n",
       "    }\n",
       "\n",
       "    .dataframe tbody tr th {\n",
       "        vertical-align: top;\n",
       "    }\n",
       "\n",
       "    .dataframe thead th {\n",
       "        text-align: right;\n",
       "    }\n",
       "</style>\n",
       "<table border=\"1\" class=\"dataframe\">\n",
       "  <thead>\n",
       "    <tr style=\"text-align: right;\">\n",
       "      <th></th>\n",
       "      <th>brand_name</th>\n",
       "      <th>brand_id</th>\n",
       "    </tr>\n",
       "  </thead>\n",
       "  <tbody>\n",
       "    <tr>\n",
       "      <th>73</th>\n",
       "      <td>Baken-Ets</td>\n",
       "      <td>2</td>\n",
       "    </tr>\n",
       "    <tr>\n",
       "      <th>129</th>\n",
       "      <td>Caleb's Kola</td>\n",
       "      <td>2</td>\n",
       "    </tr>\n",
       "    <tr>\n",
       "      <th>215</th>\n",
       "      <td>Diabetic Living Magazine</td>\n",
       "      <td>2</td>\n",
       "    </tr>\n",
       "    <tr>\n",
       "      <th>223</th>\n",
       "      <td>Dippin Dots® Cereal</td>\n",
       "      <td>2</td>\n",
       "    </tr>\n",
       "    <tr>\n",
       "      <th>313</th>\n",
       "      <td>Health Magazine</td>\n",
       "      <td>2</td>\n",
       "    </tr>\n",
       "    <tr>\n",
       "      <th>333</th>\n",
       "      <td>Huggies</td>\n",
       "      <td>2</td>\n",
       "    </tr>\n",
       "    <tr>\n",
       "      <th>335</th>\n",
       "      <td>I CAN'T BELIEVE IT'S NOT BUTTER!</td>\n",
       "      <td>2</td>\n",
       "    </tr>\n",
       "    <tr>\n",
       "      <th>504</th>\n",
       "      <td>ONE A DAY® WOMENS</td>\n",
       "      <td>2</td>\n",
       "    </tr>\n",
       "    <tr>\n",
       "      <th>564</th>\n",
       "      <td>Pull-Ups</td>\n",
       "      <td>2</td>\n",
       "    </tr>\n",
       "    <tr>\n",
       "      <th>627</th>\n",
       "      <td>Sierra Mist</td>\n",
       "      <td>2</td>\n",
       "    </tr>\n",
       "    <tr>\n",
       "      <th>699</th>\n",
       "      <td>V8 Hydrate</td>\n",
       "      <td>2</td>\n",
       "    </tr>\n",
       "  </tbody>\n",
       "</table>\n",
       "</div>"
      ],
      "text/plain": [
       "                           brand_name  brand_id\n",
       "73                          Baken-Ets         2\n",
       "129                      Caleb's Kola         2\n",
       "215          Diabetic Living Magazine         2\n",
       "223               Dippin Dots® Cereal         2\n",
       "313                   Health Magazine         2\n",
       "333                           Huggies         2\n",
       "335  I CAN'T BELIEVE IT'S NOT BUTTER!         2\n",
       "504                 ONE A DAY® WOMENS         2\n",
       "564                          Pull-Ups         2\n",
       "627                       Sierra Mist         2\n",
       "699                        V8 Hydrate         2"
      ]
     },
     "execution_count": 315,
     "metadata": {},
     "output_type": "execute_result"
    }
   ],
   "source": [
    "brands_with_multiple_ids = brand_name_counts[brand_name_counts['brand_id'] > 1]\n",
    "brands_with_multiple_ids"
   ]
  },
  {
   "cell_type": "code",
   "execution_count": 316,
   "id": "bd84ebe4-b203-4c1f-9e76-1fda6f2a2999",
   "metadata": {},
   "outputs": [
    {
     "data": {
      "text/html": [
       "<div>\n",
       "<style scoped>\n",
       "    .dataframe tbody tr th:only-of-type {\n",
       "        vertical-align: middle;\n",
       "    }\n",
       "\n",
       "    .dataframe tbody tr th {\n",
       "        vertical-align: top;\n",
       "    }\n",
       "\n",
       "    .dataframe thead th {\n",
       "        text-align: right;\n",
       "    }\n",
       "</style>\n",
       "<table border=\"1\" class=\"dataframe\">\n",
       "  <thead>\n",
       "    <tr style=\"text-align: right;\">\n",
       "      <th></th>\n",
       "      <th>barcode</th>\n",
       "      <th>category</th>\n",
       "      <th>category_code</th>\n",
       "      <th>brand_name</th>\n",
       "      <th>top_brand</th>\n",
       "      <th>brand_id</th>\n",
       "      <th>cpg_id</th>\n",
       "      <th>cpgref</th>\n",
       "      <th>brand_code</th>\n",
       "    </tr>\n",
       "  </thead>\n",
       "  <tbody>\n",
       "    <tr>\n",
       "      <th>848</th>\n",
       "      <td>511111701781</td>\n",
       "      <td>Snacks</td>\n",
       "      <td>NaN</td>\n",
       "      <td>Baken-Ets</td>\n",
       "      <td>True</td>\n",
       "      <td>585a961fe4b03e62d1ce0e76</td>\n",
       "      <td>5332f5fbe4b03c9a25efd0ba</td>\n",
       "      <td>Cogs</td>\n",
       "      <td>BAKEN-ETS</td>\n",
       "    </tr>\n",
       "    <tr>\n",
       "      <th>574</th>\n",
       "      <td>511111605546</td>\n",
       "      <td>Snacks</td>\n",
       "      <td>NaN</td>\n",
       "      <td>Baken-Ets</td>\n",
       "      <td>NULL</td>\n",
       "      <td>5d9d08d1a60b87376833e348</td>\n",
       "      <td>5332f5fbe4b03c9a25efd0ba</td>\n",
       "      <td>Cogs</td>\n",
       "      <td>BAKEN ETS</td>\n",
       "    </tr>\n",
       "    <tr>\n",
       "      <th>140</th>\n",
       "      <td>511111000518</td>\n",
       "      <td>Beverages</td>\n",
       "      <td>NaN</td>\n",
       "      <td>Caleb's Kola</td>\n",
       "      <td>False</td>\n",
       "      <td>5a4d23dae4b0bcb2c74ea77e</td>\n",
       "      <td>5332f5fbe4b03c9a25efd0ba</td>\n",
       "      <td>Cogs</td>\n",
       "      <td>CALEB'S KOLA</td>\n",
       "    </tr>\n",
       "    <tr>\n",
       "      <th>740</th>\n",
       "      <td>511111004912</td>\n",
       "      <td>Snacks</td>\n",
       "      <td>NaN</td>\n",
       "      <td>Caleb's Kola</td>\n",
       "      <td>NULL</td>\n",
       "      <td>5d601d74a3a018514994f422</td>\n",
       "      <td>53e10d6368abd3c7065097cc</td>\n",
       "      <td>Cogs</td>\n",
       "      <td>CALEBS KOLA</td>\n",
       "    </tr>\n",
       "    <tr>\n",
       "      <th>1007</th>\n",
       "      <td>511111205227</td>\n",
       "      <td>NaN</td>\n",
       "      <td>NaN</td>\n",
       "      <td>Diabetic Living Magazine</td>\n",
       "      <td>NULL</td>\n",
       "      <td>5d658ffa6d5f3b23d1bc7914</td>\n",
       "      <td>53e10d6368abd3c7065097cc</td>\n",
       "      <td>Cogs</td>\n",
       "      <td>NaN</td>\n",
       "    </tr>\n",
       "    <tr>\n",
       "      <th>1006</th>\n",
       "      <td>511111805298</td>\n",
       "      <td>Magazines</td>\n",
       "      <td>NaN</td>\n",
       "      <td>Diabetic Living Magazine</td>\n",
       "      <td>NULL</td>\n",
       "      <td>5d66d597a3a018093ab34726</td>\n",
       "      <td>5d5d4fd16d5f3b23d1bc7905</td>\n",
       "      <td>Cogs</td>\n",
       "      <td>511111805298</td>\n",
       "    </tr>\n",
       "    <tr>\n",
       "      <th>1163</th>\n",
       "      <td>511111706328</td>\n",
       "      <td>Breakfast &amp; Cereal</td>\n",
       "      <td>NaN</td>\n",
       "      <td>Dippin Dots® Cereal</td>\n",
       "      <td>NULL</td>\n",
       "      <td>5dc1fca91dda2c0ad7da64ae</td>\n",
       "      <td>53e10d6368abd3c7065097cc</td>\n",
       "      <td>Cogs</td>\n",
       "      <td>DIPPIN DOTS CEREAL</td>\n",
       "    </tr>\n",
       "    <tr>\n",
       "      <th>1081</th>\n",
       "      <td>511111206330</td>\n",
       "      <td>Breakfast &amp; Cereal</td>\n",
       "      <td>NaN</td>\n",
       "      <td>Dippin Dots® Cereal</td>\n",
       "      <td>NULL</td>\n",
       "      <td>5dc2d9d4a60b873d6b0666d2</td>\n",
       "      <td>5332f5f3e4b03c9a25efd0ae</td>\n",
       "      <td>Cogs</td>\n",
       "      <td>DIPPIN DOTS</td>\n",
       "    </tr>\n",
       "    <tr>\n",
       "      <th>194</th>\n",
       "      <td>511111605058</td>\n",
       "      <td>Magazines</td>\n",
       "      <td>NaN</td>\n",
       "      <td>Health Magazine</td>\n",
       "      <td>NULL</td>\n",
       "      <td>5d6415d5a3a018514994f429</td>\n",
       "      <td>5d5d4fd16d5f3b23d1bc7905</td>\n",
       "      <td>Cogs</td>\n",
       "      <td>511111605058</td>\n",
       "    </tr>\n",
       "    <tr>\n",
       "      <th>596</th>\n",
       "      <td>511111915287</td>\n",
       "      <td>Magazines</td>\n",
       "      <td>MAGAZINES</td>\n",
       "      <td>Health Magazine</td>\n",
       "      <td>NULL</td>\n",
       "      <td>5f298852be37ce7958c5952d</td>\n",
       "      <td>5d66b9dcee7f2d201c7281cd</td>\n",
       "      <td>Cogs</td>\n",
       "      <td>HEALTH</td>\n",
       "    </tr>\n",
       "    <tr>\n",
       "      <th>1074</th>\n",
       "      <td>511111707202</td>\n",
       "      <td>Baby</td>\n",
       "      <td>BABY</td>\n",
       "      <td>Huggies</td>\n",
       "      <td>True</td>\n",
       "      <td>5c7d9cb395144c337a3cbfbb</td>\n",
       "      <td>5459429be4b0bfcb1e864082</td>\n",
       "      <td>Cogs</td>\n",
       "      <td>HUGGIES</td>\n",
       "    </tr>\n",
       "    <tr>\n",
       "      <th>628</th>\n",
       "      <td>511111704652</td>\n",
       "      <td>Baby</td>\n",
       "      <td>NaN</td>\n",
       "      <td>Huggies</td>\n",
       "      <td>False</td>\n",
       "      <td>5bd2011f90fa074576779a17</td>\n",
       "      <td>550b2565e4b001d5e9e4146f</td>\n",
       "      <td>Cogs</td>\n",
       "      <td>HUGGIES</td>\n",
       "    </tr>\n",
       "    <tr>\n",
       "      <th>846</th>\n",
       "      <td>511111314097</td>\n",
       "      <td>Dairy &amp; Refrigerated</td>\n",
       "      <td>DAIRY_AND_REFRIGERATED</td>\n",
       "      <td>I CAN'T BELIEVE IT'S NOT BUTTER!</td>\n",
       "      <td>NULL</td>\n",
       "      <td>5e710dd5ee7f2d0b35b2a193</td>\n",
       "      <td>5e5ea9cc9c50da1291a6d074</td>\n",
       "      <td>Cogs</td>\n",
       "      <td>I CAN'T BELIEVE IT'S NOT BUTTER</td>\n",
       "    </tr>\n",
       "    <tr>\n",
       "      <th>176</th>\n",
       "      <td>511111700814</td>\n",
       "      <td>Dairy</td>\n",
       "      <td>NaN</td>\n",
       "      <td>I CAN'T BELIEVE IT'S NOT BUTTER!</td>\n",
       "      <td>NULL</td>\n",
       "      <td>592486bee410d61fcea3d12d</td>\n",
       "      <td>53e10d6368abd3c7065097cc</td>\n",
       "      <td>Cogs</td>\n",
       "      <td>I CAN'T BELIEVE IT'S NOT BUTTER!</td>\n",
       "    </tr>\n",
       "    <tr>\n",
       "      <th>339</th>\n",
       "      <td>511111914051</td>\n",
       "      <td>Health &amp; Wellness</td>\n",
       "      <td>NaN</td>\n",
       "      <td>ONE A DAY® WOMENS</td>\n",
       "      <td>NULL</td>\n",
       "      <td>5e5ff265ee7f2d0b35b2a18f</td>\n",
       "      <td>53e10d6368abd3c7065097cc</td>\n",
       "      <td>Cogs</td>\n",
       "      <td>ONE A DAY® WOMENS</td>\n",
       "    </tr>\n",
       "    <tr>\n",
       "      <th>64</th>\n",
       "      <td>511111805854</td>\n",
       "      <td>Health &amp; Wellness</td>\n",
       "      <td>NaN</td>\n",
       "      <td>ONE A DAY® WOMENS</td>\n",
       "      <td>False</td>\n",
       "      <td>5da609991dda2c3e1416ae90</td>\n",
       "      <td>53e10d6368abd3c7065097cc</td>\n",
       "      <td>Cogs</td>\n",
       "      <td>511111805854</td>\n",
       "    </tr>\n",
       "    <tr>\n",
       "      <th>978</th>\n",
       "      <td>511111312949</td>\n",
       "      <td>Baby</td>\n",
       "      <td>NaN</td>\n",
       "      <td>Pull-Ups</td>\n",
       "      <td>True</td>\n",
       "      <td>5db3288aee7f2d6de4248977</td>\n",
       "      <td>550b2565e4b001d5e9e4146f</td>\n",
       "      <td>Cogs</td>\n",
       "      <td>PULLUPS</td>\n",
       "    </tr>\n",
       "    <tr>\n",
       "      <th>126</th>\n",
       "      <td>511111104698</td>\n",
       "      <td>Baby</td>\n",
       "      <td>NaN</td>\n",
       "      <td>Pull-Ups</td>\n",
       "      <td>False</td>\n",
       "      <td>5bd201a990fa074576779a19</td>\n",
       "      <td>550b2565e4b001d5e9e4146f</td>\n",
       "      <td>Cogs</td>\n",
       "      <td>PULL UPS</td>\n",
       "    </tr>\n",
       "    <tr>\n",
       "      <th>282</th>\n",
       "      <td>511111903901</td>\n",
       "      <td>NaN</td>\n",
       "      <td>NaN</td>\n",
       "      <td>Sierra Mist</td>\n",
       "      <td>NULL</td>\n",
       "      <td>5332f608e4b03c9a25efd0c1</td>\n",
       "      <td>53e10d6368abd3c7065097cc</td>\n",
       "      <td>Cpgs</td>\n",
       "      <td>NaN</td>\n",
       "    </tr>\n",
       "    <tr>\n",
       "      <th>1116</th>\n",
       "      <td>511111205500</td>\n",
       "      <td>Beverages</td>\n",
       "      <td>NaN</td>\n",
       "      <td>Sierra Mist</td>\n",
       "      <td>NULL</td>\n",
       "      <td>5d66e07da3a018093ab3472d</td>\n",
       "      <td>5332f5fbe4b03c9a25efd0ba</td>\n",
       "      <td>Cogs</td>\n",
       "      <td>SIERRA MIST</td>\n",
       "    </tr>\n",
       "    <tr>\n",
       "      <th>477</th>\n",
       "      <td>511111304616</td>\n",
       "      <td>Beverages</td>\n",
       "      <td>NaN</td>\n",
       "      <td>V8 Hydrate</td>\n",
       "      <td>NULL</td>\n",
       "      <td>5bcdfc5a965c7d66d92731e9</td>\n",
       "      <td>53e10d6368abd3c7065097cc</td>\n",
       "      <td>Cogs</td>\n",
       "      <td>NaN</td>\n",
       "    </tr>\n",
       "    <tr>\n",
       "      <th>1025</th>\n",
       "      <td>511111804604</td>\n",
       "      <td>Beverages</td>\n",
       "      <td>NaN</td>\n",
       "      <td>V8 Hydrate</td>\n",
       "      <td>False</td>\n",
       "      <td>5bcdfc5990fa074576779a15</td>\n",
       "      <td>5a734034e4b0d58f376be874</td>\n",
       "      <td>Cogs</td>\n",
       "      <td>V8 HYDRATE</td>\n",
       "    </tr>\n",
       "  </tbody>\n",
       "</table>\n",
       "</div>"
      ],
      "text/plain": [
       "           barcode              category           category_code  \\\n",
       "848   511111701781                Snacks                     NaN   \n",
       "574   511111605546                Snacks                     NaN   \n",
       "140   511111000518             Beverages                     NaN   \n",
       "740   511111004912                Snacks                     NaN   \n",
       "1007  511111205227                   NaN                     NaN   \n",
       "1006  511111805298             Magazines                     NaN   \n",
       "1163  511111706328    Breakfast & Cereal                     NaN   \n",
       "1081  511111206330    Breakfast & Cereal                     NaN   \n",
       "194   511111605058             Magazines                     NaN   \n",
       "596   511111915287             Magazines               MAGAZINES   \n",
       "1074  511111707202                  Baby                    BABY   \n",
       "628   511111704652                  Baby                     NaN   \n",
       "846   511111314097  Dairy & Refrigerated  DAIRY_AND_REFRIGERATED   \n",
       "176   511111700814                 Dairy                     NaN   \n",
       "339   511111914051     Health & Wellness                     NaN   \n",
       "64    511111805854     Health & Wellness                     NaN   \n",
       "978   511111312949                  Baby                     NaN   \n",
       "126   511111104698                  Baby                     NaN   \n",
       "282   511111903901                   NaN                     NaN   \n",
       "1116  511111205500             Beverages                     NaN   \n",
       "477   511111304616             Beverages                     NaN   \n",
       "1025  511111804604             Beverages                     NaN   \n",
       "\n",
       "                            brand_name top_brand                  brand_id  \\\n",
       "848                          Baken-Ets      True  585a961fe4b03e62d1ce0e76   \n",
       "574                          Baken-Ets      NULL  5d9d08d1a60b87376833e348   \n",
       "140                       Caleb's Kola     False  5a4d23dae4b0bcb2c74ea77e   \n",
       "740                       Caleb's Kola      NULL  5d601d74a3a018514994f422   \n",
       "1007          Diabetic Living Magazine      NULL  5d658ffa6d5f3b23d1bc7914   \n",
       "1006          Diabetic Living Magazine      NULL  5d66d597a3a018093ab34726   \n",
       "1163               Dippin Dots® Cereal      NULL  5dc1fca91dda2c0ad7da64ae   \n",
       "1081               Dippin Dots® Cereal      NULL  5dc2d9d4a60b873d6b0666d2   \n",
       "194                    Health Magazine      NULL  5d6415d5a3a018514994f429   \n",
       "596                    Health Magazine      NULL  5f298852be37ce7958c5952d   \n",
       "1074                           Huggies      True  5c7d9cb395144c337a3cbfbb   \n",
       "628                            Huggies     False  5bd2011f90fa074576779a17   \n",
       "846   I CAN'T BELIEVE IT'S NOT BUTTER!      NULL  5e710dd5ee7f2d0b35b2a193   \n",
       "176   I CAN'T BELIEVE IT'S NOT BUTTER!      NULL  592486bee410d61fcea3d12d   \n",
       "339                  ONE A DAY® WOMENS      NULL  5e5ff265ee7f2d0b35b2a18f   \n",
       "64                   ONE A DAY® WOMENS     False  5da609991dda2c3e1416ae90   \n",
       "978                           Pull-Ups      True  5db3288aee7f2d6de4248977   \n",
       "126                           Pull-Ups     False  5bd201a990fa074576779a19   \n",
       "282                        Sierra Mist      NULL  5332f608e4b03c9a25efd0c1   \n",
       "1116                       Sierra Mist      NULL  5d66e07da3a018093ab3472d   \n",
       "477                         V8 Hydrate      NULL  5bcdfc5a965c7d66d92731e9   \n",
       "1025                        V8 Hydrate     False  5bcdfc5990fa074576779a15   \n",
       "\n",
       "                        cpg_id cpgref                        brand_code  \n",
       "848   5332f5fbe4b03c9a25efd0ba   Cogs                         BAKEN-ETS  \n",
       "574   5332f5fbe4b03c9a25efd0ba   Cogs                         BAKEN ETS  \n",
       "140   5332f5fbe4b03c9a25efd0ba   Cogs                      CALEB'S KOLA  \n",
       "740   53e10d6368abd3c7065097cc   Cogs                       CALEBS KOLA  \n",
       "1007  53e10d6368abd3c7065097cc   Cogs                               NaN  \n",
       "1006  5d5d4fd16d5f3b23d1bc7905   Cogs                      511111805298  \n",
       "1163  53e10d6368abd3c7065097cc   Cogs                DIPPIN DOTS CEREAL  \n",
       "1081  5332f5f3e4b03c9a25efd0ae   Cogs                       DIPPIN DOTS  \n",
       "194   5d5d4fd16d5f3b23d1bc7905   Cogs                      511111605058  \n",
       "596   5d66b9dcee7f2d201c7281cd   Cogs                            HEALTH  \n",
       "1074  5459429be4b0bfcb1e864082   Cogs                           HUGGIES  \n",
       "628   550b2565e4b001d5e9e4146f   Cogs                           HUGGIES  \n",
       "846   5e5ea9cc9c50da1291a6d074   Cogs   I CAN'T BELIEVE IT'S NOT BUTTER  \n",
       "176   53e10d6368abd3c7065097cc   Cogs  I CAN'T BELIEVE IT'S NOT BUTTER!  \n",
       "339   53e10d6368abd3c7065097cc   Cogs                 ONE A DAY® WOMENS  \n",
       "64    53e10d6368abd3c7065097cc   Cogs                      511111805854  \n",
       "978   550b2565e4b001d5e9e4146f   Cogs                           PULLUPS  \n",
       "126   550b2565e4b001d5e9e4146f   Cogs                          PULL UPS  \n",
       "282   53e10d6368abd3c7065097cc   Cpgs                               NaN  \n",
       "1116  5332f5fbe4b03c9a25efd0ba   Cogs                       SIERRA MIST  \n",
       "477   53e10d6368abd3c7065097cc   Cogs                               NaN  \n",
       "1025  5a734034e4b0d58f376be874   Cogs                        V8 HYDRATE  "
      ]
     },
     "execution_count": 316,
     "metadata": {},
     "output_type": "execute_result"
    }
   ],
   "source": [
    "# Lets dive deep\n",
    "brands_df.loc[brands_df['brand_name'].isin(brands_with_multiple_ids['brand_name'])].sort_values(by='brand_name')"
   ]
  },
  {
   "cell_type": "markdown",
   "id": "ebca651c-bfdd-42ab-9f3b-de28571503bb",
   "metadata": {},
   "source": [
    "#### We found that are same brand name with same data but created with different brand_id, we can remove the duplicated ones"
   ]
  },
  {
   "cell_type": "code",
   "execution_count": 317,
   "id": "2e86809d-b735-4afa-af22-87156ceb2179",
   "metadata": {},
   "outputs": [],
   "source": [
    "brands_df.drop_duplicates(subset= 'brand_name', keep = 'first', inplace = True)"
   ]
  },
  {
   "cell_type": "code",
   "execution_count": 318,
   "id": "a96f5546-d06d-4ca0-960b-72e315170ccf",
   "metadata": {},
   "outputs": [
    {
     "data": {
      "text/plain": [
       "(1156, 9)"
      ]
     },
     "execution_count": 318,
     "metadata": {},
     "output_type": "execute_result"
    }
   ],
   "source": [
    "brands_df.shape"
   ]
  },
  {
   "cell_type": "code",
   "execution_count": 319,
   "id": "5398edf9-aff8-4ffa-a578-2f7a7b662bd5",
   "metadata": {},
   "outputs": [
    {
     "data": {
      "text/plain": [
       "barcode          1149\n",
       "category           23\n",
       "category_code      13\n",
       "brand_name       1156\n",
       "top_brand           3\n",
       "brand_id         1156\n",
       "cpg_id            195\n",
       "cpgref              2\n",
       "brand_code        888\n",
       "dtype: int64"
      ]
     },
     "execution_count": 319,
     "metadata": {},
     "output_type": "execute_result"
    }
   ],
   "source": [
    "brands_df.nunique()"
   ]
  },
  {
   "cell_type": "code",
   "execution_count": 320,
   "id": "41dc72cc-109d-4dd0-aa99-321d47303490",
   "metadata": {},
   "outputs": [],
   "source": [
    "# We also found duplicated barcodes lets inspect"
   ]
  },
  {
   "cell_type": "code",
   "execution_count": 321,
   "id": "146c7371-9a05-4f90-bb1f-b17ddbff245d",
   "metadata": {},
   "outputs": [
    {
     "data": {
      "text/plain": [
       "barcode            0\n",
       "category         154\n",
       "category_code    642\n",
       "brand_name         0\n",
       "top_brand          0\n",
       "brand_id           0\n",
       "cpg_id             0\n",
       "cpgref             0\n",
       "brand_code       233\n",
       "dtype: int64"
      ]
     },
     "execution_count": 321,
     "metadata": {},
     "output_type": "execute_result"
    }
   ],
   "source": [
    "brands_df.isnull().sum()"
   ]
  },
  {
   "cell_type": "code",
   "execution_count": 322,
   "id": "92951892-9d84-48b4-8e27-7b5e91636832",
   "metadata": {},
   "outputs": [
    {
     "data": {
      "text/html": [
       "<div>\n",
       "<style scoped>\n",
       "    .dataframe tbody tr th:only-of-type {\n",
       "        vertical-align: middle;\n",
       "    }\n",
       "\n",
       "    .dataframe tbody tr th {\n",
       "        vertical-align: top;\n",
       "    }\n",
       "\n",
       "    .dataframe thead th {\n",
       "        text-align: right;\n",
       "    }\n",
       "</style>\n",
       "<table border=\"1\" class=\"dataframe\">\n",
       "  <thead>\n",
       "    <tr style=\"text-align: right;\">\n",
       "      <th></th>\n",
       "      <th>count</th>\n",
       "    </tr>\n",
       "    <tr>\n",
       "      <th>barcode</th>\n",
       "      <th></th>\n",
       "    </tr>\n",
       "  </thead>\n",
       "  <tbody>\n",
       "    <tr>\n",
       "      <th>511111305125</th>\n",
       "      <td>2</td>\n",
       "    </tr>\n",
       "    <tr>\n",
       "      <th>511111605058</th>\n",
       "      <td>2</td>\n",
       "    </tr>\n",
       "    <tr>\n",
       "      <th>511111504139</th>\n",
       "      <td>2</td>\n",
       "    </tr>\n",
       "    <tr>\n",
       "      <th>511111204923</th>\n",
       "      <td>2</td>\n",
       "    </tr>\n",
       "    <tr>\n",
       "      <th>511111004790</th>\n",
       "      <td>2</td>\n",
       "    </tr>\n",
       "    <tr>\n",
       "      <th>...</th>\n",
       "      <td>...</td>\n",
       "    </tr>\n",
       "    <tr>\n",
       "      <th>511111703334</th>\n",
       "      <td>1</td>\n",
       "    </tr>\n",
       "    <tr>\n",
       "      <th>511111705727</th>\n",
       "      <td>1</td>\n",
       "    </tr>\n",
       "    <tr>\n",
       "      <th>511111302414</th>\n",
       "      <td>1</td>\n",
       "    </tr>\n",
       "    <tr>\n",
       "      <th>511111916512</th>\n",
       "      <td>1</td>\n",
       "    </tr>\n",
       "    <tr>\n",
       "      <th>511111019930</th>\n",
       "      <td>1</td>\n",
       "    </tr>\n",
       "  </tbody>\n",
       "</table>\n",
       "<p>1149 rows × 1 columns</p>\n",
       "</div>"
      ],
      "text/plain": [
       "              count\n",
       "barcode            \n",
       "511111305125      2\n",
       "511111605058      2\n",
       "511111504139      2\n",
       "511111204923      2\n",
       "511111004790      2\n",
       "...             ...\n",
       "511111703334      1\n",
       "511111705727      1\n",
       "511111302414      1\n",
       "511111916512      1\n",
       "511111019930      1\n",
       "\n",
       "[1149 rows x 1 columns]"
      ]
     },
     "execution_count": 322,
     "metadata": {},
     "output_type": "execute_result"
    }
   ],
   "source": [
    "barcodes_count =  pd.DataFrame(brands_df.barcode.value_counts())\n",
    "barcodes_count"
   ]
  },
  {
   "cell_type": "code",
   "execution_count": null,
   "id": "eaef186c-c13f-4394-b081-48b78b013781",
   "metadata": {},
   "outputs": [],
   "source": []
  },
  {
   "cell_type": "code",
   "execution_count": 323,
   "id": "70338977-65fc-4c7b-a915-41a1c7393b4a",
   "metadata": {},
   "outputs": [],
   "source": [
    "barcodes_multiple_id = brands_df.groupby(by='barcode')['brand_id'].count().reset_index()\n"
   ]
  },
  {
   "cell_type": "code",
   "execution_count": 324,
   "id": "06de0cef-1a26-431a-8703-9b718de0d760",
   "metadata": {},
   "outputs": [
    {
     "data": {
      "text/plain": [
       "array([1, 2])"
      ]
     },
     "execution_count": 324,
     "metadata": {},
     "output_type": "execute_result"
    }
   ],
   "source": [
    "#lets see unique values in our count column\n",
    "barcodes_multiple_id.brand_id.unique()"
   ]
  },
  {
   "cell_type": "code",
   "execution_count": 325,
   "id": "1d1cee67-acd8-42ed-a11e-204bbb4dd067",
   "metadata": {},
   "outputs": [
    {
     "data": {
      "text/html": [
       "<div>\n",
       "<style scoped>\n",
       "    .dataframe tbody tr th:only-of-type {\n",
       "        vertical-align: middle;\n",
       "    }\n",
       "\n",
       "    .dataframe tbody tr th {\n",
       "        vertical-align: top;\n",
       "    }\n",
       "\n",
       "    .dataframe thead th {\n",
       "        text-align: right;\n",
       "    }\n",
       "</style>\n",
       "<table border=\"1\" class=\"dataframe\">\n",
       "  <thead>\n",
       "    <tr style=\"text-align: right;\">\n",
       "      <th></th>\n",
       "      <th>barcode</th>\n",
       "      <th>brand_id</th>\n",
       "    </tr>\n",
       "  </thead>\n",
       "  <tbody>\n",
       "    <tr>\n",
       "      <th>46</th>\n",
       "      <td>511111004790</td>\n",
       "      <td>2</td>\n",
       "    </tr>\n",
       "    <tr>\n",
       "      <th>281</th>\n",
       "      <td>511111204923</td>\n",
       "      <td>2</td>\n",
       "    </tr>\n",
       "    <tr>\n",
       "      <th>397</th>\n",
       "      <td>511111305125</td>\n",
       "      <td>2</td>\n",
       "    </tr>\n",
       "    <tr>\n",
       "      <th>617</th>\n",
       "      <td>511111504139</td>\n",
       "      <td>2</td>\n",
       "    </tr>\n",
       "    <tr>\n",
       "      <th>623</th>\n",
       "      <td>511111504788</td>\n",
       "      <td>2</td>\n",
       "    </tr>\n",
       "    <tr>\n",
       "      <th>740</th>\n",
       "      <td>511111605058</td>\n",
       "      <td>2</td>\n",
       "    </tr>\n",
       "    <tr>\n",
       "      <th>846</th>\n",
       "      <td>511111704140</td>\n",
       "      <td>2</td>\n",
       "    </tr>\n",
       "  </tbody>\n",
       "</table>\n",
       "</div>"
      ],
      "text/plain": [
       "          barcode  brand_id\n",
       "46   511111004790         2\n",
       "281  511111204923         2\n",
       "397  511111305125         2\n",
       "617  511111504139         2\n",
       "623  511111504788         2\n",
       "740  511111605058         2\n",
       "846  511111704140         2"
      ]
     },
     "execution_count": 325,
     "metadata": {},
     "output_type": "execute_result"
    }
   ],
   "source": [
    "barcodes_multiple_id_filter = barcodes_multiple_id.loc[barcodes_multiple_id['brand_id']>1]\n",
    "barcodes_multiple_id_filter"
   ]
  },
  {
   "cell_type": "code",
   "execution_count": 326,
   "id": "06557cb8-1757-431a-af2e-7ebf5005ee3a",
   "metadata": {},
   "outputs": [
    {
     "data": {
      "text/html": [
       "<div>\n",
       "<style scoped>\n",
       "    .dataframe tbody tr th:only-of-type {\n",
       "        vertical-align: middle;\n",
       "    }\n",
       "\n",
       "    .dataframe tbody tr th {\n",
       "        vertical-align: top;\n",
       "    }\n",
       "\n",
       "    .dataframe thead th {\n",
       "        text-align: right;\n",
       "    }\n",
       "</style>\n",
       "<table border=\"1\" class=\"dataframe\">\n",
       "  <thead>\n",
       "    <tr style=\"text-align: right;\">\n",
       "      <th></th>\n",
       "      <th>barcode</th>\n",
       "      <th>category</th>\n",
       "      <th>category_code</th>\n",
       "      <th>brand_name</th>\n",
       "      <th>top_brand</th>\n",
       "      <th>brand_id</th>\n",
       "      <th>cpg_id</th>\n",
       "      <th>cpgref</th>\n",
       "      <th>brand_code</th>\n",
       "    </tr>\n",
       "  </thead>\n",
       "  <tbody>\n",
       "    <tr>\n",
       "      <th>467</th>\n",
       "      <td>511111004790</td>\n",
       "      <td>Baking</td>\n",
       "      <td>NaN</td>\n",
       "      <td>alexa</td>\n",
       "      <td>True</td>\n",
       "      <td>5c409ab4cd244a3539b84162</td>\n",
       "      <td>55b62995e4b0d8e685c14213</td>\n",
       "      <td>Cogs</td>\n",
       "      <td>ALEXA</td>\n",
       "    </tr>\n",
       "    <tr>\n",
       "      <th>1071</th>\n",
       "      <td>511111004790</td>\n",
       "      <td>Condiments &amp; Sauces</td>\n",
       "      <td>NaN</td>\n",
       "      <td>Bitten Dressing</td>\n",
       "      <td>NULL</td>\n",
       "      <td>5cdacd63166eb33eb7ce0fa8</td>\n",
       "      <td>559c2234e4b06aca36af13c6</td>\n",
       "      <td>Cogs</td>\n",
       "      <td>BITTEN</td>\n",
       "    </tr>\n",
       "    <tr>\n",
       "      <th>152</th>\n",
       "      <td>511111204923</td>\n",
       "      <td>Grocery</td>\n",
       "      <td>NaN</td>\n",
       "      <td>Brand1</td>\n",
       "      <td>True</td>\n",
       "      <td>5c45f91b87ff3552f950f027</td>\n",
       "      <td>5c45f8b087ff3552f950f026</td>\n",
       "      <td>Cogs</td>\n",
       "      <td>0987654321</td>\n",
       "    </tr>\n",
       "    <tr>\n",
       "      <th>536</th>\n",
       "      <td>511111204923</td>\n",
       "      <td>Snacks</td>\n",
       "      <td>NaN</td>\n",
       "      <td>CHESTER'S</td>\n",
       "      <td>NULL</td>\n",
       "      <td>5d6027f46d5f3b23d1bc7906</td>\n",
       "      <td>5332f5fbe4b03c9a25efd0ba</td>\n",
       "      <td>Cogs</td>\n",
       "      <td>CHESTERS</td>\n",
       "    </tr>\n",
       "    <tr>\n",
       "      <th>20</th>\n",
       "      <td>511111305125</td>\n",
       "      <td>Baby</td>\n",
       "      <td>NaN</td>\n",
       "      <td>Chris Image Test</td>\n",
       "      <td>NULL</td>\n",
       "      <td>5c4699f387ff3577e203ea29</td>\n",
       "      <td>55b62995e4b0d8e685c14213</td>\n",
       "      <td>Cogs</td>\n",
       "      <td>CHRISIMAGE</td>\n",
       "    </tr>\n",
       "    <tr>\n",
       "      <th>651</th>\n",
       "      <td>511111305125</td>\n",
       "      <td>Magazines</td>\n",
       "      <td>NaN</td>\n",
       "      <td>Rachael Ray Everyday</td>\n",
       "      <td>NULL</td>\n",
       "      <td>5d642d65a3a018514994f42d</td>\n",
       "      <td>5d5d4fd16d5f3b23d1bc7905</td>\n",
       "      <td>Cogs</td>\n",
       "      <td>511111305125</td>\n",
       "    </tr>\n",
       "    <tr>\n",
       "      <th>129</th>\n",
       "      <td>511111504139</td>\n",
       "      <td>Beverages</td>\n",
       "      <td>NaN</td>\n",
       "      <td>Chris Brand XYZ</td>\n",
       "      <td>NULL</td>\n",
       "      <td>5a7e0604e4b0aedb3b84afd3</td>\n",
       "      <td>55b62995e4b0d8e685c14213</td>\n",
       "      <td>Cogs</td>\n",
       "      <td>CHRISXYZ</td>\n",
       "    </tr>\n",
       "    <tr>\n",
       "      <th>299</th>\n",
       "      <td>511111504139</td>\n",
       "      <td>Grocery</td>\n",
       "      <td>NaN</td>\n",
       "      <td>Pace</td>\n",
       "      <td>False</td>\n",
       "      <td>5a8c33f3e4b07f0a2dac8943</td>\n",
       "      <td>5a734034e4b0d58f376be874</td>\n",
       "      <td>Cogs</td>\n",
       "      <td>PACE</td>\n",
       "    </tr>\n",
       "    <tr>\n",
       "      <th>9</th>\n",
       "      <td>511111504788</td>\n",
       "      <td>Baking</td>\n",
       "      <td>NaN</td>\n",
       "      <td>test</td>\n",
       "      <td>NULL</td>\n",
       "      <td>5c408e8bcd244a1fdb47aee7</td>\n",
       "      <td>59ba6f1ce4b092b29c167346</td>\n",
       "      <td>Cogs</td>\n",
       "      <td>TEST</td>\n",
       "    </tr>\n",
       "    <tr>\n",
       "      <th>412</th>\n",
       "      <td>511111504788</td>\n",
       "      <td>Condiments &amp; Sauces</td>\n",
       "      <td>NaN</td>\n",
       "      <td>The Pioneer Woman</td>\n",
       "      <td>NULL</td>\n",
       "      <td>5ccb2ece166eb31bbbadccbe</td>\n",
       "      <td>559c2234e4b06aca36af13c6</td>\n",
       "      <td>Cogs</td>\n",
       "      <td>PIONEER WOMAN</td>\n",
       "    </tr>\n",
       "    <tr>\n",
       "      <th>194</th>\n",
       "      <td>511111605058</td>\n",
       "      <td>Magazines</td>\n",
       "      <td>NaN</td>\n",
       "      <td>Health Magazine</td>\n",
       "      <td>NULL</td>\n",
       "      <td>5d6415d5a3a018514994f429</td>\n",
       "      <td>5d5d4fd16d5f3b23d1bc7905</td>\n",
       "      <td>Cogs</td>\n",
       "      <td>511111605058</td>\n",
       "    </tr>\n",
       "    <tr>\n",
       "      <th>1012</th>\n",
       "      <td>511111605058</td>\n",
       "      <td>Dairy</td>\n",
       "      <td>NaN</td>\n",
       "      <td>Brand2</td>\n",
       "      <td>True</td>\n",
       "      <td>5c4637ba87ff35681e840d57</td>\n",
       "      <td>5c45f8b087ff3552f950f026</td>\n",
       "      <td>Cogs</td>\n",
       "      <td>09090909090</td>\n",
       "    </tr>\n",
       "    <tr>\n",
       "      <th>1002</th>\n",
       "      <td>511111704140</td>\n",
       "      <td>Condiments &amp; Sauces</td>\n",
       "      <td>NaN</td>\n",
       "      <td>Prego</td>\n",
       "      <td>False</td>\n",
       "      <td>5a8c344ae4b0ccf165fac9e5</td>\n",
       "      <td>5a734034e4b0d58f376be874</td>\n",
       "      <td>Cogs</td>\n",
       "      <td>PREGO</td>\n",
       "    </tr>\n",
       "    <tr>\n",
       "      <th>1015</th>\n",
       "      <td>511111704140</td>\n",
       "      <td>NaN</td>\n",
       "      <td>NaN</td>\n",
       "      <td>Diet Chris Cola</td>\n",
       "      <td>NULL</td>\n",
       "      <td>5a7e0665e4b0aedb3b84afd4</td>\n",
       "      <td>55b62995e4b0d8e685c14213</td>\n",
       "      <td>Cogs</td>\n",
       "      <td>DIETCHRIS2</td>\n",
       "    </tr>\n",
       "  </tbody>\n",
       "</table>\n",
       "</div>"
      ],
      "text/plain": [
       "           barcode             category category_code            brand_name  \\\n",
       "467   511111004790               Baking           NaN                 alexa   \n",
       "1071  511111004790  Condiments & Sauces           NaN       Bitten Dressing   \n",
       "152   511111204923              Grocery           NaN                Brand1   \n",
       "536   511111204923               Snacks           NaN             CHESTER'S   \n",
       "20    511111305125                 Baby           NaN      Chris Image Test   \n",
       "651   511111305125            Magazines           NaN  Rachael Ray Everyday   \n",
       "129   511111504139            Beverages           NaN       Chris Brand XYZ   \n",
       "299   511111504139              Grocery           NaN                  Pace   \n",
       "9     511111504788               Baking           NaN                  test   \n",
       "412   511111504788  Condiments & Sauces           NaN     The Pioneer Woman   \n",
       "194   511111605058            Magazines           NaN       Health Magazine   \n",
       "1012  511111605058                Dairy           NaN                Brand2   \n",
       "1002  511111704140  Condiments & Sauces           NaN                 Prego   \n",
       "1015  511111704140                  NaN           NaN       Diet Chris Cola   \n",
       "\n",
       "     top_brand                  brand_id                    cpg_id cpgref  \\\n",
       "467       True  5c409ab4cd244a3539b84162  55b62995e4b0d8e685c14213   Cogs   \n",
       "1071      NULL  5cdacd63166eb33eb7ce0fa8  559c2234e4b06aca36af13c6   Cogs   \n",
       "152       True  5c45f91b87ff3552f950f027  5c45f8b087ff3552f950f026   Cogs   \n",
       "536       NULL  5d6027f46d5f3b23d1bc7906  5332f5fbe4b03c9a25efd0ba   Cogs   \n",
       "20        NULL  5c4699f387ff3577e203ea29  55b62995e4b0d8e685c14213   Cogs   \n",
       "651       NULL  5d642d65a3a018514994f42d  5d5d4fd16d5f3b23d1bc7905   Cogs   \n",
       "129       NULL  5a7e0604e4b0aedb3b84afd3  55b62995e4b0d8e685c14213   Cogs   \n",
       "299      False  5a8c33f3e4b07f0a2dac8943  5a734034e4b0d58f376be874   Cogs   \n",
       "9         NULL  5c408e8bcd244a1fdb47aee7  59ba6f1ce4b092b29c167346   Cogs   \n",
       "412       NULL  5ccb2ece166eb31bbbadccbe  559c2234e4b06aca36af13c6   Cogs   \n",
       "194       NULL  5d6415d5a3a018514994f429  5d5d4fd16d5f3b23d1bc7905   Cogs   \n",
       "1012      True  5c4637ba87ff35681e840d57  5c45f8b087ff3552f950f026   Cogs   \n",
       "1002     False  5a8c344ae4b0ccf165fac9e5  5a734034e4b0d58f376be874   Cogs   \n",
       "1015      NULL  5a7e0665e4b0aedb3b84afd4  55b62995e4b0d8e685c14213   Cogs   \n",
       "\n",
       "         brand_code  \n",
       "467           ALEXA  \n",
       "1071         BITTEN  \n",
       "152      0987654321  \n",
       "536        CHESTERS  \n",
       "20       CHRISIMAGE  \n",
       "651    511111305125  \n",
       "129        CHRISXYZ  \n",
       "299            PACE  \n",
       "9              TEST  \n",
       "412   PIONEER WOMAN  \n",
       "194    511111605058  \n",
       "1012    09090909090  \n",
       "1002          PREGO  \n",
       "1015     DIETCHRIS2  "
      ]
     },
     "execution_count": 326,
     "metadata": {},
     "output_type": "execute_result"
    }
   ],
   "source": [
    "brands_df.loc[brands_df['barcode'].isin(barcodes_multiple_id_filter['barcode'])].sort_values(by='barcode')"
   ]
  },
  {
   "cell_type": "markdown",
   "id": "5fb34937-4077-4dc9-9235-7358d3952b84",
   "metadata": {},
   "source": [
    "### Possible assumptions\n",
    "### Here we can make an assumption that a brand_name can have multiple barcodes\n",
    "### Another assumption a barcode can be used to same category item of different brands_name\n",
    "### My assumption according to table is that these wrongly populated, since we have a unqiue brand name has unique brand_id and each brand_name must have its own barcode \n",
    "\n",
    "### So leaving them without any transformation, since i generated a question for stake holders based on this "
   ]
  },
  {
   "cell_type": "code",
   "execution_count": null,
   "id": "fcc53ba3-9ef9-4475-97b2-6cef62088458",
   "metadata": {},
   "outputs": [],
   "source": []
  },
  {
   "cell_type": "code",
   "execution_count": null,
   "id": "316d7479-da80-4cad-9544-c5feb149ed7a",
   "metadata": {},
   "outputs": [],
   "source": []
  },
  {
   "cell_type": "code",
   "execution_count": null,
   "id": "9591ae6a-e874-4dba-a439-c0e41e2ce06b",
   "metadata": {},
   "outputs": [],
   "source": []
  },
  {
   "cell_type": "code",
   "execution_count": null,
   "id": "a065f88b-7c27-44db-bc92-0634fd610071",
   "metadata": {},
   "outputs": [],
   "source": []
  },
  {
   "cell_type": "code",
   "execution_count": null,
   "id": "8ec69317-4684-46fb-afd3-c327942d2d18",
   "metadata": {},
   "outputs": [],
   "source": []
  },
  {
   "cell_type": "code",
   "execution_count": 327,
   "id": "3ccc7c8f-67c3-4add-80b7-eac15e18fd49",
   "metadata": {},
   "outputs": [
    {
     "data": {
      "text/html": [
       "<div>\n",
       "<style scoped>\n",
       "    .dataframe tbody tr th:only-of-type {\n",
       "        vertical-align: middle;\n",
       "    }\n",
       "\n",
       "    .dataframe tbody tr th {\n",
       "        vertical-align: top;\n",
       "    }\n",
       "\n",
       "    .dataframe thead th {\n",
       "        text-align: right;\n",
       "    }\n",
       "</style>\n",
       "<table border=\"1\" class=\"dataframe\">\n",
       "  <thead>\n",
       "    <tr style=\"text-align: right;\">\n",
       "      <th></th>\n",
       "      <th>receipt_id</th>\n",
       "      <th>user_id</th>\n",
       "      <th>create_date</th>\n",
       "      <th>date_scanned</th>\n",
       "      <th>finished_date</th>\n",
       "      <th>points_awarded_date</th>\n",
       "      <th>points_earned</th>\n",
       "      <th>purchase_date</th>\n",
       "      <th>purchased_item_count</th>\n",
       "      <th>rewards_receipt_status</th>\n",
       "      <th>total_spent</th>\n",
       "    </tr>\n",
       "  </thead>\n",
       "  <tbody>\n",
       "    <tr>\n",
       "      <th>0</th>\n",
       "      <td>5ff1e1eb0a720f0523000575</td>\n",
       "      <td>5ff1e1eacfcf6c399c274ae6</td>\n",
       "      <td>2021-01-03 15:25:31</td>\n",
       "      <td>2021-01-03 15:25:31</td>\n",
       "      <td>2021-01-03 15:25:31</td>\n",
       "      <td>2021-01-03 15:25:31</td>\n",
       "      <td>500.0</td>\n",
       "      <td>2021-01-03 00:00:00</td>\n",
       "      <td>5</td>\n",
       "      <td>FINISHED</td>\n",
       "      <td>26.0</td>\n",
       "    </tr>\n",
       "    <tr>\n",
       "      <th>1</th>\n",
       "      <td>5ff1e1bb0a720f052300056b</td>\n",
       "      <td>5ff1e194b6a9d73a3a9f1052</td>\n",
       "      <td>2021-01-03 15:24:43</td>\n",
       "      <td>2021-01-03 15:24:43</td>\n",
       "      <td>2021-01-03 15:24:43</td>\n",
       "      <td>2021-01-03 15:24:43</td>\n",
       "      <td>150.0</td>\n",
       "      <td>2021-01-02 15:24:43</td>\n",
       "      <td>2</td>\n",
       "      <td>FINISHED</td>\n",
       "      <td>11.0</td>\n",
       "    </tr>\n",
       "    <tr>\n",
       "      <th>2</th>\n",
       "      <td>5ff1e1f10a720f052300057a</td>\n",
       "      <td>5ff1e1f1cfcf6c399c274b0b</td>\n",
       "      <td>2021-01-03 15:25:37</td>\n",
       "      <td>2021-01-03 15:25:37</td>\n",
       "      <td>NaT</td>\n",
       "      <td>NaT</td>\n",
       "      <td>5.0</td>\n",
       "      <td>2021-01-03 00:00:00</td>\n",
       "      <td>1</td>\n",
       "      <td>REJECTED</td>\n",
       "      <td>10.0</td>\n",
       "    </tr>\n",
       "    <tr>\n",
       "      <th>3</th>\n",
       "      <td>5ff1e1ee0a7214ada100056f</td>\n",
       "      <td>5ff1e1eacfcf6c399c274ae6</td>\n",
       "      <td>2021-01-03 15:25:34</td>\n",
       "      <td>2021-01-03 15:25:34</td>\n",
       "      <td>2021-01-03 15:25:34</td>\n",
       "      <td>2021-01-03 15:25:34</td>\n",
       "      <td>5.0</td>\n",
       "      <td>2021-01-03 00:00:00</td>\n",
       "      <td>4</td>\n",
       "      <td>FINISHED</td>\n",
       "      <td>28.0</td>\n",
       "    </tr>\n",
       "    <tr>\n",
       "      <th>4</th>\n",
       "      <td>5ff1e1d20a7214ada1000561</td>\n",
       "      <td>5ff1e194b6a9d73a3a9f1052</td>\n",
       "      <td>2021-01-03 15:25:06</td>\n",
       "      <td>2021-01-03 15:25:06</td>\n",
       "      <td>2021-01-03 15:25:11</td>\n",
       "      <td>2021-01-03 15:25:06</td>\n",
       "      <td>5.0</td>\n",
       "      <td>2021-01-02 15:25:06</td>\n",
       "      <td>2</td>\n",
       "      <td>FINISHED</td>\n",
       "      <td>1.0</td>\n",
       "    </tr>\n",
       "  </tbody>\n",
       "</table>\n",
       "</div>"
      ],
      "text/plain": [
       "                 receipt_id                   user_id         create_date  \\\n",
       "0  5ff1e1eb0a720f0523000575  5ff1e1eacfcf6c399c274ae6 2021-01-03 15:25:31   \n",
       "1  5ff1e1bb0a720f052300056b  5ff1e194b6a9d73a3a9f1052 2021-01-03 15:24:43   \n",
       "2  5ff1e1f10a720f052300057a  5ff1e1f1cfcf6c399c274b0b 2021-01-03 15:25:37   \n",
       "3  5ff1e1ee0a7214ada100056f  5ff1e1eacfcf6c399c274ae6 2021-01-03 15:25:34   \n",
       "4  5ff1e1d20a7214ada1000561  5ff1e194b6a9d73a3a9f1052 2021-01-03 15:25:06   \n",
       "\n",
       "         date_scanned       finished_date points_awarded_date  points_earned  \\\n",
       "0 2021-01-03 15:25:31 2021-01-03 15:25:31 2021-01-03 15:25:31          500.0   \n",
       "1 2021-01-03 15:24:43 2021-01-03 15:24:43 2021-01-03 15:24:43          150.0   \n",
       "2 2021-01-03 15:25:37                 NaT                 NaT            5.0   \n",
       "3 2021-01-03 15:25:34 2021-01-03 15:25:34 2021-01-03 15:25:34            5.0   \n",
       "4 2021-01-03 15:25:06 2021-01-03 15:25:11 2021-01-03 15:25:06            5.0   \n",
       "\n",
       "        purchase_date  purchased_item_count rewards_receipt_status  \\\n",
       "0 2021-01-03 00:00:00                     5               FINISHED   \n",
       "1 2021-01-02 15:24:43                     2               FINISHED   \n",
       "2 2021-01-03 00:00:00                     1               REJECTED   \n",
       "3 2021-01-03 00:00:00                     4               FINISHED   \n",
       "4 2021-01-02 15:25:06                     2               FINISHED   \n",
       "\n",
       "   total_spent  \n",
       "0         26.0  \n",
       "1         11.0  \n",
       "2         10.0  \n",
       "3         28.0  \n",
       "4          1.0  "
      ]
     },
     "execution_count": 327,
     "metadata": {},
     "output_type": "execute_result"
    }
   ],
   "source": [
    "receipts_df.head()"
   ]
  },
  {
   "cell_type": "code",
   "execution_count": 328,
   "id": "420af42a-e6e5-4a79-a7b1-2352de6c3647",
   "metadata": {},
   "outputs": [
    {
     "data": {
      "text/plain": [
       "(1119, 11)"
      ]
     },
     "execution_count": 328,
     "metadata": {},
     "output_type": "execute_result"
    }
   ],
   "source": [
    "receipts_df.shape"
   ]
  },
  {
   "cell_type": "code",
   "execution_count": 329,
   "id": "9afc1b8b-6ef5-4eba-bbbe-6135b2b6076a",
   "metadata": {},
   "outputs": [
    {
     "data": {
      "text/plain": [
       "receipt_id                1119\n",
       "user_id                    258\n",
       "create_date               1107\n",
       "date_scanned              1107\n",
       "finished_date              553\n",
       "points_awarded_date        523\n",
       "points_earned              119\n",
       "purchase_date              358\n",
       "purchased_item_count        50\n",
       "rewards_receipt_status       5\n",
       "total_spent                 94\n",
       "dtype: int64"
      ]
     },
     "execution_count": 329,
     "metadata": {},
     "output_type": "execute_result"
    }
   ],
   "source": [
    "receipts_df.nunique()"
   ]
  },
  {
   "cell_type": "code",
   "execution_count": 330,
   "id": "f7318b87-5c53-48d3-ac24-bbde5f265992",
   "metadata": {},
   "outputs": [
    {
     "data": {
      "text/plain": [
       "receipt_id                  0\n",
       "user_id                     0\n",
       "create_date                 0\n",
       "date_scanned                0\n",
       "finished_date             551\n",
       "points_awarded_date       582\n",
       "points_earned               0\n",
       "purchase_date             448\n",
       "purchased_item_count        0\n",
       "rewards_receipt_status      0\n",
       "total_spent                 0\n",
       "dtype: int64"
      ]
     },
     "execution_count": 330,
     "metadata": {},
     "output_type": "execute_result"
    }
   ],
   "source": [
    "receipts_df.isnull().sum()"
   ]
  },
  {
   "cell_type": "markdown",
   "id": "d2d68b6e-0177-4a08-a7d2-acf677f1afc0",
   "metadata": {},
   "source": [
    "### Here we found that we have 1119 unique receipts, and null values in the columns finished date, points_awarded_date, purchase_date\n"
   ]
  },
  {
   "cell_type": "markdown",
   "id": "69c96960-2603-4be0-8199-3a57535bd070",
   "metadata": {},
   "source": [
    "### Lets see here we can fill date_scanned values into finished_date"
   ]
  },
  {
   "cell_type": "code",
   "execution_count": 331,
   "id": "7e2d5584-0759-4ea4-a120-448d5346e40e",
   "metadata": {},
   "outputs": [],
   "source": [
    "# Compare the two columns\n",
    "comparison = receipts_df['date_scanned'] == receipts_df['finished_date']\n",
    "not_equal = receipts_df['date_scanned'] != receipts_df['finished_date']\n",
    "\n",
    "# Count the number of rows where the values are the same\n",
    "count_same_values = comparison.sum()\n",
    "not_equal_values = not_equal.sum()"
   ]
  },
  {
   "cell_type": "code",
   "execution_count": 332,
   "id": "19567665-eff5-455e-b9a8-03b233dd6075",
   "metadata": {},
   "outputs": [
    {
     "data": {
      "text/plain": [
       "165"
      ]
     },
     "execution_count": 332,
     "metadata": {},
     "output_type": "execute_result"
    }
   ],
   "source": [
    "count_same_values"
   ]
  },
  {
   "cell_type": "code",
   "execution_count": 333,
   "id": "78946a8b-a63a-4da5-8897-6e9c3c113516",
   "metadata": {},
   "outputs": [
    {
     "data": {
      "text/plain": [
       "954"
      ]
     },
     "execution_count": 333,
     "metadata": {},
     "output_type": "execute_result"
    }
   ],
   "source": [
    "not_equal_values"
   ]
  },
  {
   "cell_type": "markdown",
   "id": "0b403f2b-2a5d-454d-ba28-8e178515e163",
   "metadata": {},
   "source": [
    "### Here we found that we can fill since there a huge difference between them, we can drop or fill them since we dont know their usuability Yet"
   ]
  },
  {
   "cell_type": "markdown",
   "id": "9c2f9b93-de45-4595-a8cd-6a53f8f4b9b8",
   "metadata": {},
   "source": [
    "### Let check purchase date column whether we can fill with date_scanned since purchase date mostly associated with scanned_date"
   ]
  },
  {
   "cell_type": "code",
   "execution_count": 334,
   "id": "7f45228d-cd83-4581-b18a-e8f6f8a16f1d",
   "metadata": {},
   "outputs": [],
   "source": [
    "comparison_purchase_date = receipts_df['date_scanned'] == receipts_df['purchase_date']\n",
    "#not_equal = receipts_df['date_scanned'] != receipts_df['finished_date']"
   ]
  },
  {
   "cell_type": "code",
   "execution_count": 335,
   "id": "30c8bb25-22f9-43cf-a43a-d290144ee56c",
   "metadata": {},
   "outputs": [],
   "source": [
    "\n",
    "count_same_values_purchase = comparison_purchase_date.sum()"
   ]
  },
  {
   "cell_type": "code",
   "execution_count": 336,
   "id": "eeb2b25a-6d3d-4446-a29f-1d4c1d0874d3",
   "metadata": {},
   "outputs": [
    {
     "data": {
      "text/plain": [
       "30"
      ]
     },
     "execution_count": 336,
     "metadata": {},
     "output_type": "execute_result"
    }
   ],
   "source": [
    "count_same_values_purchase"
   ]
  },
  {
   "cell_type": "markdown",
   "id": "77029e26-cef2-44a9-a153-2a48af2efa6f",
   "metadata": {},
   "source": [
    "### Seems ike we can't fill with date_scanned since we have little or no equal values"
   ]
  },
  {
   "cell_type": "markdown",
   "id": "94cbcc21-834f-47b9-8bc9-0fa5256e1ba7",
   "metadata": {},
   "source": [
    "### We can also check the above columns with created_date but we have little or no information their relationship between them "
   ]
  },
  {
   "cell_type": "code",
   "execution_count": 337,
   "id": "30ad876b-7eed-4a3f-99d3-4936b7cb442d",
   "metadata": {},
   "outputs": [],
   "source": [
    "#Lets Check "
   ]
  },
  {
   "cell_type": "code",
   "execution_count": 338,
   "id": "ce8b612a-cec2-4155-899b-e82b4e51fec3",
   "metadata": {},
   "outputs": [
    {
     "data": {
      "text/plain": [
       "30"
      ]
     },
     "execution_count": 338,
     "metadata": {},
     "output_type": "execute_result"
    }
   ],
   "source": [
    "comparison_created_date = receipts_df['create_date'] == receipts_df['purchase_date']\n",
    "comparison_created_date.sum()\n",
    "# No relation"
   ]
  },
  {
   "cell_type": "markdown",
   "id": "f8005abc-628e-4b59-b7f9-a30755923bf4",
   "metadata": {},
   "source": [
    "### I'm leaving them with out filling them or removing them without further information "
   ]
  },
  {
   "cell_type": "code",
   "execution_count": null,
   "id": "60ac0187-b5bb-430e-9498-0444028ffceb",
   "metadata": {},
   "outputs": [],
   "source": []
  },
  {
   "cell_type": "code",
   "execution_count": null,
   "id": "bfc2c925-0a44-4e9d-8faf-bdec2858bf7d",
   "metadata": {},
   "outputs": [],
   "source": []
  },
  {
   "cell_type": "code",
   "execution_count": null,
   "id": "490f8a13-c28e-4a65-92f2-05e13d9742aa",
   "metadata": {},
   "outputs": [],
   "source": []
  },
  {
   "cell_type": "markdown",
   "id": "ef315194-620b-4f95-a5bf-377ec08cbd20",
   "metadata": {},
   "source": [
    "### Data missing in the users table \n",
    "### If we see unique users in receipts is 258 and in users table 212, theres is data ineqality or missing data "
   ]
  },
  {
   "cell_type": "code",
   "execution_count": 339,
   "id": "651ecfa7-4710-48b8-878d-f297a09e1f0a",
   "metadata": {},
   "outputs": [],
   "source": [
    "# Lets solve "
   ]
  },
  {
   "cell_type": "code",
   "execution_count": 340,
   "id": "9fe82145-dce6-4dca-9a28-a42b177bfb1d",
   "metadata": {},
   "outputs": [],
   "source": [
    "count_of_users_in = receipts_df.loc[receipts_df['user_id'].isin(users_df['user_id'])]"
   ]
  },
  {
   "cell_type": "code",
   "execution_count": 341,
   "id": "b592a7ed-d4fa-488a-9b2e-46930cb87c98",
   "metadata": {},
   "outputs": [
    {
     "data": {
      "text/plain": [
       "receipt_id                971\n",
       "user_id                   141\n",
       "create_date               961\n",
       "date_scanned              961\n",
       "finished_date             445\n",
       "points_awarded_date       407\n",
       "points_earned              89\n",
       "purchase_date             293\n",
       "purchased_item_count       35\n",
       "rewards_receipt_status      5\n",
       "total_spent                69\n",
       "dtype: int64"
      ]
     },
     "execution_count": 341,
     "metadata": {},
     "output_type": "execute_result"
    }
   ],
   "source": [
    "count_of_users_in.nunique()"
   ]
  },
  {
   "cell_type": "code",
   "execution_count": 342,
   "id": "aad397ad-ade1-4d7b-a41a-9dd408414270",
   "metadata": {},
   "outputs": [],
   "source": [
    "count_of_users_not_in = receipts_df.loc[~receipts_df['user_id'].isin(users_df['user_id'])]"
   ]
  },
  {
   "cell_type": "code",
   "execution_count": 343,
   "id": "5969bb71-e543-4f53-824f-a5fc36600521",
   "metadata": {},
   "outputs": [
    {
     "data": {
      "text/plain": [
       "receipt_id                148\n",
       "user_id                   117\n",
       "create_date               146\n",
       "date_scanned              146\n",
       "finished_date             108\n",
       "points_awarded_date       116\n",
       "points_earned              51\n",
       "purchase_date              87\n",
       "purchased_item_count       27\n",
       "rewards_receipt_status      5\n",
       "total_spent                49\n",
       "dtype: int64"
      ]
     },
     "execution_count": 343,
     "metadata": {},
     "output_type": "execute_result"
    }
   ],
   "source": [
    "count_of_users_not_in.nunique()"
   ]
  },
  {
   "cell_type": "markdown",
   "id": "aef1744d-bde3-4a55-ad4d-08611a21fa2e",
   "metadata": {},
   "source": [
    "### It shows that out of 258 total users only 141 are common in both table and 117 users are not present in users"
   ]
  },
  {
   "cell_type": "code",
   "execution_count": 344,
   "id": "7c19085e-4381-4a61-a08d-08d2094d6107",
   "metadata": {},
   "outputs": [],
   "source": [
    "## Let add the remaining users to Users table"
   ]
  },
  {
   "cell_type": "code",
   "execution_count": 345,
   "id": "423c83be-6557-4cc2-a646-f873b8a0b96c",
   "metadata": {},
   "outputs": [],
   "source": [
    "users = pd.concat([users_df,count_of_users_not_in])"
   ]
  },
  {
   "cell_type": "code",
   "execution_count": 346,
   "id": "e0651966-1062-4385-826f-48e605580d80",
   "metadata": {},
   "outputs": [
    {
     "data": {
      "text/plain": [
       "active                      2\n",
       "role                        2\n",
       "signup_source               2\n",
       "state                       8\n",
       "user_id                   329\n",
       "created_date              212\n",
       "last_login                173\n",
       "receipt_id                148\n",
       "create_date               146\n",
       "date_scanned              146\n",
       "finished_date             108\n",
       "points_awarded_date       116\n",
       "points_earned              51\n",
       "purchase_date              87\n",
       "purchased_item_count       27\n",
       "rewards_receipt_status      5\n",
       "total_spent                49\n",
       "dtype: int64"
      ]
     },
     "execution_count": 346,
     "metadata": {},
     "output_type": "execute_result"
    }
   ],
   "source": [
    "users.nunique()"
   ]
  },
  {
   "cell_type": "code",
   "execution_count": 347,
   "id": "c6907747-e00a-4313-a9e5-51841c466ca5",
   "metadata": {},
   "outputs": [
    {
     "data": {
      "text/plain": [
       "(360, 17)"
      ]
     },
     "execution_count": 347,
     "metadata": {},
     "output_type": "execute_result"
    }
   ],
   "source": [
    "users.shape"
   ]
  },
  {
   "cell_type": "code",
   "execution_count": 348,
   "id": "c59dffe0-3c78-4ced-b614-785f5aa3fb4e",
   "metadata": {},
   "outputs": [],
   "source": [
    "users = users[users.columns[:7]]"
   ]
  },
  {
   "cell_type": "code",
   "execution_count": 349,
   "id": "77f052b0-c7f7-4f31-8425-9aa420d2b27e",
   "metadata": {},
   "outputs": [
    {
     "data": {
      "text/html": [
       "<div>\n",
       "<style scoped>\n",
       "    .dataframe tbody tr th:only-of-type {\n",
       "        vertical-align: middle;\n",
       "    }\n",
       "\n",
       "    .dataframe tbody tr th {\n",
       "        vertical-align: top;\n",
       "    }\n",
       "\n",
       "    .dataframe thead th {\n",
       "        text-align: right;\n",
       "    }\n",
       "</style>\n",
       "<table border=\"1\" class=\"dataframe\">\n",
       "  <thead>\n",
       "    <tr style=\"text-align: right;\">\n",
       "      <th></th>\n",
       "      <th>active</th>\n",
       "      <th>role</th>\n",
       "      <th>signup_source</th>\n",
       "      <th>state</th>\n",
       "      <th>user_id</th>\n",
       "      <th>created_date</th>\n",
       "      <th>last_login</th>\n",
       "    </tr>\n",
       "  </thead>\n",
       "  <tbody>\n",
       "    <tr>\n",
       "      <th>0</th>\n",
       "      <td>True</td>\n",
       "      <td>consumer</td>\n",
       "      <td>Email</td>\n",
       "      <td>WI</td>\n",
       "      <td>5ff1e194b6a9d73a3a9f1052</td>\n",
       "      <td>2021-01-03 15:24:04.800</td>\n",
       "      <td>2021-01-03 15:25:37.857999872</td>\n",
       "    </tr>\n",
       "    <tr>\n",
       "      <th>2</th>\n",
       "      <td>True</td>\n",
       "      <td>consumer</td>\n",
       "      <td>Email</td>\n",
       "      <td>WI</td>\n",
       "      <td>5ff1e1eacfcf6c399c274ae6</td>\n",
       "      <td>2021-01-03 15:25:30.554</td>\n",
       "      <td>2021-01-03 15:25:30.596999936</td>\n",
       "    </tr>\n",
       "    <tr>\n",
       "      <th>5</th>\n",
       "      <td>True</td>\n",
       "      <td>consumer</td>\n",
       "      <td>Email</td>\n",
       "      <td>WI</td>\n",
       "      <td>5ff1e1e8cfcf6c399c274ad9</td>\n",
       "      <td>2021-01-03 15:25:28.354</td>\n",
       "      <td>2021-01-03 15:25:28.392000</td>\n",
       "    </tr>\n",
       "    <tr>\n",
       "      <th>6</th>\n",
       "      <td>True</td>\n",
       "      <td>consumer</td>\n",
       "      <td>Email</td>\n",
       "      <td>WI</td>\n",
       "      <td>5ff1e1b7cfcf6c399c274a5a</td>\n",
       "      <td>2021-01-03 15:24:39.626</td>\n",
       "      <td>2021-01-03 15:24:39.664999936</td>\n",
       "    </tr>\n",
       "    <tr>\n",
       "      <th>8</th>\n",
       "      <td>True</td>\n",
       "      <td>consumer</td>\n",
       "      <td>Email</td>\n",
       "      <td>WI</td>\n",
       "      <td>5ff1e1f1cfcf6c399c274b0b</td>\n",
       "      <td>2021-01-03 15:25:37.564</td>\n",
       "      <td>2021-01-03 15:25:37.599000064</td>\n",
       "    </tr>\n",
       "    <tr>\n",
       "      <th>...</th>\n",
       "      <td>...</td>\n",
       "      <td>...</td>\n",
       "      <td>...</td>\n",
       "      <td>...</td>\n",
       "      <td>...</td>\n",
       "      <td>...</td>\n",
       "      <td>...</td>\n",
       "    </tr>\n",
       "    <tr>\n",
       "      <th>955</th>\n",
       "      <td>NaN</td>\n",
       "      <td>NaN</td>\n",
       "      <td>NaN</td>\n",
       "      <td>NaN</td>\n",
       "      <td>60253861efa6017a44dc6b50</td>\n",
       "      <td>NaT</td>\n",
       "      <td>NaN</td>\n",
       "    </tr>\n",
       "    <tr>\n",
       "      <th>956</th>\n",
       "      <td>NaN</td>\n",
       "      <td>NaN</td>\n",
       "      <td>NaN</td>\n",
       "      <td>NaN</td>\n",
       "      <td>60253891b54593795bf69242</td>\n",
       "      <td>NaT</td>\n",
       "      <td>NaN</td>\n",
       "    </tr>\n",
       "    <tr>\n",
       "      <th>966</th>\n",
       "      <td>NaN</td>\n",
       "      <td>NaN</td>\n",
       "      <td>NaN</td>\n",
       "      <td>NaN</td>\n",
       "      <td>60253891b54593795bf69242</td>\n",
       "      <td>NaT</td>\n",
       "      <td>NaN</td>\n",
       "    </tr>\n",
       "    <tr>\n",
       "      <th>985</th>\n",
       "      <td>NaN</td>\n",
       "      <td>NaN</td>\n",
       "      <td>NaN</td>\n",
       "      <td>NaN</td>\n",
       "      <td>60268c7bb545931ac63683af</td>\n",
       "      <td>NaT</td>\n",
       "      <td>NaN</td>\n",
       "    </tr>\n",
       "    <tr>\n",
       "      <th>990</th>\n",
       "      <td>NaN</td>\n",
       "      <td>NaN</td>\n",
       "      <td>NaN</td>\n",
       "      <td>NaN</td>\n",
       "      <td>60268c78efa6011bb151077d</td>\n",
       "      <td>NaT</td>\n",
       "      <td>NaN</td>\n",
       "    </tr>\n",
       "  </tbody>\n",
       "</table>\n",
       "<p>360 rows × 7 columns</p>\n",
       "</div>"
      ],
      "text/plain": [
       "    active      role signup_source state                   user_id  \\\n",
       "0     True  consumer         Email    WI  5ff1e194b6a9d73a3a9f1052   \n",
       "2     True  consumer         Email    WI  5ff1e1eacfcf6c399c274ae6   \n",
       "5     True  consumer         Email    WI  5ff1e1e8cfcf6c399c274ad9   \n",
       "6     True  consumer         Email    WI  5ff1e1b7cfcf6c399c274a5a   \n",
       "8     True  consumer         Email    WI  5ff1e1f1cfcf6c399c274b0b   \n",
       "..     ...       ...           ...   ...                       ...   \n",
       "955    NaN       NaN           NaN   NaN  60253861efa6017a44dc6b50   \n",
       "956    NaN       NaN           NaN   NaN  60253891b54593795bf69242   \n",
       "966    NaN       NaN           NaN   NaN  60253891b54593795bf69242   \n",
       "985    NaN       NaN           NaN   NaN  60268c7bb545931ac63683af   \n",
       "990    NaN       NaN           NaN   NaN  60268c78efa6011bb151077d   \n",
       "\n",
       "               created_date                     last_login  \n",
       "0   2021-01-03 15:24:04.800  2021-01-03 15:25:37.857999872  \n",
       "2   2021-01-03 15:25:30.554  2021-01-03 15:25:30.596999936  \n",
       "5   2021-01-03 15:25:28.354     2021-01-03 15:25:28.392000  \n",
       "6   2021-01-03 15:24:39.626  2021-01-03 15:24:39.664999936  \n",
       "8   2021-01-03 15:25:37.564  2021-01-03 15:25:37.599000064  \n",
       "..                      ...                            ...  \n",
       "955                     NaT                            NaN  \n",
       "956                     NaT                            NaN  \n",
       "966                     NaT                            NaN  \n",
       "985                     NaT                            NaN  \n",
       "990                     NaT                            NaN  \n",
       "\n",
       "[360 rows x 7 columns]"
      ]
     },
     "execution_count": 349,
     "metadata": {},
     "output_type": "execute_result"
    }
   ],
   "source": [
    "users"
   ]
  },
  {
   "cell_type": "code",
   "execution_count": 350,
   "id": "f2066f06-266c-4d56-a482-7400ccd2e815",
   "metadata": {},
   "outputs": [],
   "source": [
    "users.drop_duplicates(subset= 'user_id', inplace = True)"
   ]
  },
  {
   "cell_type": "code",
   "execution_count": 351,
   "id": "7cd2f7d5-fb93-44bd-bf4e-35ceba6c1a4d",
   "metadata": {},
   "outputs": [
    {
     "data": {
      "text/plain": [
       "active             2\n",
       "role               2\n",
       "signup_source      2\n",
       "state              8\n",
       "user_id          329\n",
       "created_date     212\n",
       "last_login       173\n",
       "dtype: int64"
      ]
     },
     "execution_count": 351,
     "metadata": {},
     "output_type": "execute_result"
    }
   ],
   "source": [
    "users.nunique()"
   ]
  },
  {
   "cell_type": "code",
   "execution_count": 352,
   "id": "0518269c-8ad5-4e91-ad4b-f4642c97deb4",
   "metadata": {},
   "outputs": [],
   "source": [
    "users_df = users"
   ]
  },
  {
   "cell_type": "code",
   "execution_count": 353,
   "id": "7ea90853-ca27-4f4e-851e-9edebe30259a",
   "metadata": {},
   "outputs": [
    {
     "data": {
      "text/html": [
       "<div>\n",
       "<style scoped>\n",
       "    .dataframe tbody tr th:only-of-type {\n",
       "        vertical-align: middle;\n",
       "    }\n",
       "\n",
       "    .dataframe tbody tr th {\n",
       "        vertical-align: top;\n",
       "    }\n",
       "\n",
       "    .dataframe thead th {\n",
       "        text-align: right;\n",
       "    }\n",
       "</style>\n",
       "<table border=\"1\" class=\"dataframe\">\n",
       "  <thead>\n",
       "    <tr style=\"text-align: right;\">\n",
       "      <th></th>\n",
       "      <th>receipt_id</th>\n",
       "      <th>barcode</th>\n",
       "      <th>description</th>\n",
       "      <th>final_price</th>\n",
       "      <th>item_price</th>\n",
       "      <th>quantity_purchased</th>\n",
       "      <th>points_earned</th>\n",
       "      <th>points_not_awarded_reason</th>\n",
       "      <th>rewards_group</th>\n",
       "      <th>rewards_product_partner_id</th>\n",
       "    </tr>\n",
       "  </thead>\n",
       "  <tbody>\n",
       "    <tr>\n",
       "      <th>0</th>\n",
       "      <td>5ff1e1eb0a720f0523000575</td>\n",
       "      <td>4011</td>\n",
       "      <td>ITEM NOT FOUND</td>\n",
       "      <td>26.0</td>\n",
       "      <td>26.0</td>\n",
       "      <td>5</td>\n",
       "      <td>0.0</td>\n",
       "      <td>None</td>\n",
       "      <td>None</td>\n",
       "      <td>None</td>\n",
       "    </tr>\n",
       "    <tr>\n",
       "      <th>1</th>\n",
       "      <td>5ff1e1bb0a720f052300056b</td>\n",
       "      <td>4011</td>\n",
       "      <td>ITEM NOT FOUND</td>\n",
       "      <td>1.0</td>\n",
       "      <td>1.0</td>\n",
       "      <td>1</td>\n",
       "      <td>0.0</td>\n",
       "      <td>None</td>\n",
       "      <td>None</td>\n",
       "      <td>None</td>\n",
       "    </tr>\n",
       "    <tr>\n",
       "      <th>2</th>\n",
       "      <td>5ff1e1bb0a720f052300056b</td>\n",
       "      <td>028400642255</td>\n",
       "      <td>DORITOS TORTILLA CHIP SPICY SWEET CHILI REDUCE...</td>\n",
       "      <td>10.0</td>\n",
       "      <td>10.0</td>\n",
       "      <td>1</td>\n",
       "      <td>0.0</td>\n",
       "      <td>Action not allowed for user and CPG</td>\n",
       "      <td>DORITOS SPICY SWEET CHILI SINGLE SERVE</td>\n",
       "      <td>5332f5fbe4b03c9a25efd0ba</td>\n",
       "    </tr>\n",
       "    <tr>\n",
       "      <th>3</th>\n",
       "      <td>5ff1e1f10a720f052300057a</td>\n",
       "      <td>None</td>\n",
       "      <td>None</td>\n",
       "      <td>0.0</td>\n",
       "      <td>0.0</td>\n",
       "      <td>0</td>\n",
       "      <td>0.0</td>\n",
       "      <td>None</td>\n",
       "      <td>None</td>\n",
       "      <td>None</td>\n",
       "    </tr>\n",
       "    <tr>\n",
       "      <th>4</th>\n",
       "      <td>5ff1e1ee0a7214ada100056f</td>\n",
       "      <td>4011</td>\n",
       "      <td>ITEM NOT FOUND</td>\n",
       "      <td>28.0</td>\n",
       "      <td>28.0</td>\n",
       "      <td>4</td>\n",
       "      <td>0.0</td>\n",
       "      <td>None</td>\n",
       "      <td>None</td>\n",
       "      <td>None</td>\n",
       "    </tr>\n",
       "  </tbody>\n",
       "</table>\n",
       "</div>"
      ],
      "text/plain": [
       "                 receipt_id       barcode  \\\n",
       "0  5ff1e1eb0a720f0523000575          4011   \n",
       "1  5ff1e1bb0a720f052300056b          4011   \n",
       "2  5ff1e1bb0a720f052300056b  028400642255   \n",
       "3  5ff1e1f10a720f052300057a          None   \n",
       "4  5ff1e1ee0a7214ada100056f          4011   \n",
       "\n",
       "                                         description  final_price  item_price  \\\n",
       "0                                     ITEM NOT FOUND         26.0        26.0   \n",
       "1                                     ITEM NOT FOUND          1.0         1.0   \n",
       "2  DORITOS TORTILLA CHIP SPICY SWEET CHILI REDUCE...         10.0        10.0   \n",
       "3                                               None          0.0         0.0   \n",
       "4                                     ITEM NOT FOUND         28.0        28.0   \n",
       "\n",
       "   quantity_purchased  points_earned            points_not_awarded_reason  \\\n",
       "0                   5            0.0                                 None   \n",
       "1                   1            0.0                                 None   \n",
       "2                   1            0.0  Action not allowed for user and CPG   \n",
       "3                   0            0.0                                 None   \n",
       "4                   4            0.0                                 None   \n",
       "\n",
       "                            rewards_group rewards_product_partner_id  \n",
       "0                                    None                       None  \n",
       "1                                    None                       None  \n",
       "2  DORITOS SPICY SWEET CHILI SINGLE SERVE   5332f5fbe4b03c9a25efd0ba  \n",
       "3                                    None                       None  \n",
       "4                                    None                       None  "
      ]
     },
     "execution_count": 353,
     "metadata": {},
     "output_type": "execute_result"
    }
   ],
   "source": [
    "# Let's inspect receipts_item\n",
    "receipt_items_df.head()"
   ]
  },
  {
   "cell_type": "code",
   "execution_count": 354,
   "id": "0470e514-5b29-4062-9a28-d8dcca048518",
   "metadata": {},
   "outputs": [
    {
     "data": {
      "text/plain": [
       "(6941, 10)"
      ]
     },
     "execution_count": 354,
     "metadata": {},
     "output_type": "execute_result"
    }
   ],
   "source": [
    "receipt_items_df.shape"
   ]
  },
  {
   "cell_type": "code",
   "execution_count": 355,
   "id": "e80bb55d-d441-4468-83c2-d3a0a4ac524b",
   "metadata": {},
   "outputs": [
    {
     "data": {
      "text/plain": [
       "receipt_id                     679\n",
       "barcode                        568\n",
       "description                   1889\n",
       "final_price                    823\n",
       "item_price                     823\n",
       "quantity_purchased              14\n",
       "points_earned                  278\n",
       "points_not_awarded_reason        1\n",
       "rewards_group                  182\n",
       "rewards_product_partner_id      16\n",
       "dtype: int64"
      ]
     },
     "execution_count": 355,
     "metadata": {},
     "output_type": "execute_result"
    }
   ],
   "source": [
    "receipt_items_df.nunique()"
   ]
  },
  {
   "cell_type": "code",
   "execution_count": 356,
   "id": "5b69a7cf-5f9d-4350-a820-ecd9c115593c",
   "metadata": {},
   "outputs": [
    {
     "data": {
      "text/plain": [
       "receipt_id                       0\n",
       "barcode                       3851\n",
       "description                    381\n",
       "final_price                      0\n",
       "item_price                       0\n",
       "quantity_purchased               0\n",
       "points_earned                    0\n",
       "points_not_awarded_reason     6601\n",
       "rewards_group                 5210\n",
       "rewards_product_partner_id    4672\n",
       "dtype: int64"
      ]
     },
     "execution_count": 356,
     "metadata": {},
     "output_type": "execute_result"
    }
   ],
   "source": [
    "receipt_items_df.isnull().sum()"
   ]
  },
  {
   "cell_type": "markdown",
   "id": "6db0278d-916f-44d9-a8bf-8cd4e5a7b9c2",
   "metadata": {},
   "source": [
    "### After inspection we found that we have nulls in points_not_awarded_reason, rewards_group, rewards_product_partner_id have most nulls values \n",
    "### we can drop them but i want to keep them until further information from stakeholders i want to learn about the significance of the columns"
   ]
  },
  {
   "cell_type": "code",
   "execution_count": 357,
   "id": "d35538cb-857c-4031-92b8-a69325e35b20",
   "metadata": {},
   "outputs": [
    {
     "data": {
      "text/plain": [
       "description\n",
       "ITEM NOT FOUND                                                         173\n",
       "KLARBRUNN 12PK 12 FL OZ                                                120\n",
       "HUGGIES SIMPLY CLEAN PREMOISTENED WIPE FRAGRANCE FREE BAG 216 COUNT     92\n",
       "MILLER LITE 24 PACK 12OZ CAN                                            90\n",
       "KLEENEX POP UP RECTANGLE BOX FACIAL TISSUE 2 PLY 8PK 160 CT             87\n",
       "                                                                      ... \n",
       "434 BETTYCRKRB                                                           1\n",
       "433 KROGERSOUR                                                           1\n",
       "430 DOLESALAD K                                                          1\n",
       "424 RAGU PASTAS                                                          1\n",
       "Berry Strawberry Conventional, 16 Ounce                                  1\n",
       "Name: count, Length: 1889, dtype: int64"
      ]
     },
     "execution_count": 357,
     "metadata": {},
     "output_type": "execute_result"
    }
   ],
   "source": [
    "receipt_items_df.description.value_counts()"
   ]
  },
  {
   "cell_type": "markdown",
   "id": "bd01c202-014b-4372-9eea-667c682d1f6c",
   "metadata": {},
   "source": [
    "### I can fill description with fillna methods, but right now im just keeping it as it is since we dont have any use of the column for the posted questions"
   ]
  },
  {
   "cell_type": "markdown",
   "id": "203f3e6f-04ce-4f99-8b20-21487f1641ac",
   "metadata": {},
   "source": [
    "# Loading Data into POSTGRESQL for sql queries"
   ]
  },
  {
   "cell_type": "raw",
   "id": "a01a89ab-7b3e-42a6-bfa4-5f322159008b",
   "metadata": {},
   "source": [
    "Instructions for loading data, I'm please find sql scripts for tables creations and other modifications of tables"
   ]
  },
  {
   "cell_type": "code",
   "execution_count": 358,
   "id": "5e17c035-33be-47bd-b24d-de88874e8e70",
   "metadata": {},
   "outputs": [
    {
     "name": "stderr",
     "output_type": "stream",
     "text": [
      "/var/folders/tg/vkj956ss1b108j97r7gcts7r0000gn/T/ipykernel_50642/998433314.py:2: FutureWarning: Setting an item of incompatible dtype is deprecated and will raise in a future error of pandas. Value 'NULL' has dtype incompatible with datetime64[ns], please explicitly cast to a compatible dtype first.\n",
      "  users_df.fillna('NULL', inplace = True)\n"
     ]
    }
   ],
   "source": [
    "# since Postgres doesnt accept 'NaT' nulls we need convert into NUlls\n",
    "users_df.fillna('NULL', inplace = True)"
   ]
  },
  {
   "cell_type": "code",
   "execution_count": 359,
   "id": "60f056c1-e585-43cf-ac23-8709c6c54677",
   "metadata": {},
   "outputs": [],
   "source": [
    "# Users table\n",
    "\n",
    "import psycopg2\n",
    "# Connection parameters\n",
    "conn_params = {\n",
    "    'dbname': 'Sales',\n",
    "    'user': 'postgres',\n",
    "    'password': '2000',\n",
    "    'host': 'localhost',\n",
    "    'port': 5432\n",
    "}\n",
    "# Connect to PostgreSQL\n",
    "conn = psycopg2.connect(**conn_params)\n",
    "cur = conn.cursor()\n",
    "\n",
    "# Create an insert query\n",
    "insert_query = \"\"\"\n",
    "INSERT INTO users (user_id, active, created_date, last_login, role, signup_source, state)\n",
    "VALUES (%s, %s, %s, %s, %s, %s, %s)\n",
    "ON CONFLICT (user_id) DO NOTHING;\n",
    "\"\"\"\n",
    "\n",
    "# Insert data into the PostgreSQL table\n",
    "for i, row in users_df.iterrows():\n",
    "    cur.execute(insert_query, (\n",
    "        row['user_id'], \n",
    "        row['active'], \n",
    "        row['created_date'], \n",
    "        row['last_login'], \n",
    "        row['role'], \n",
    "        row['signup_source'], \n",
    "        row['state']\n",
    "    ))\n",
    "\n",
    "# Commit the transaction and close the connection\n",
    "conn.commit()\n",
    "cur.close()\n",
    "conn.close()\n"
   ]
  },
  {
   "cell_type": "code",
   "execution_count": 265,
   "id": "8986bf17-b2ee-45a1-8bc6-3d780068dc95",
   "metadata": {},
   "outputs": [],
   "source": [
    "# Receipts  tables\n",
    "\n",
    "import psycopg2\n",
    "# Connection parameters\n",
    "conn_params = {\n",
    "    'dbname': 'Sales',\n",
    "    'user': 'postgres',\n",
    "    'password': '2000',\n",
    "    'host': 'localhost',\n",
    "    'port': 5432\n",
    "}\n",
    "# Connect to PostgreSQL\n",
    "conn = psycopg2.connect(**conn_params)\n",
    "cur = conn.cursor()\n",
    "\n",
    "# Create an insert query\n",
    "insert_query = \"\"\"\n",
    "INSERT INTO receipts (receipt_id, user_id, create_date, date_scanned, finished_date, points_awarded_date, points_earned, purchase_date, purchased_item_count, rewards_receipt_status, total_spent)\n",
    "VALUES (%s, %s, %s, %s, %s, %s, %s, %s, %s, %s, %s)\n",
    "ON CONFLICT (receipt_id) DO NOTHING;\n",
    "\"\"\"\n",
    "\n",
    "# Insert data into the PostgreSQL table\n",
    "for i, row in receipts_df.iterrows():\n",
    "    cur.execute(insert_query, (\n",
    "        row['receipt_id'], \n",
    "        row['user_id'], \n",
    "        row['create_date'], \n",
    "        row['date_scanned'], \n",
    "        row['finished_date'], \n",
    "        row['points_awarded_date'], \n",
    "        row['points_earned'],\n",
    "        row['purchase_date'],\n",
    "        row['purchased_item_count'],\n",
    "        row['rewards_receipt_status'],\n",
    "        row['total_spent']\n",
    "    ))\n",
    "\n",
    "# Commit the transaction and close the connection\n",
    "conn.commit()\n",
    "cur.close()\n",
    "conn.close()\n"
   ]
  },
  {
   "cell_type": "code",
   "execution_count": 266,
   "id": "de4d538a-0b46-4a31-9744-aa0f0669d72d",
   "metadata": {},
   "outputs": [],
   "source": [
    "# receipt_items_df\n",
    "import psycopg2\n",
    "# Connection parameters\n",
    "conn_params = {\n",
    "    'dbname': 'Sales',\n",
    "    'user': 'postgres',\n",
    "    'password': '2000',\n",
    "    'host': 'localhost',\n",
    "    'port': 5432\n",
    "}\n",
    "# Connect to PostgreSQL\n",
    "conn = psycopg2.connect(**conn_params)\n",
    "cur = conn.cursor()\n",
    "\n",
    "\n",
    "# Create an insert query\n",
    "insert_query = \"\"\"\n",
    "INSERT INTO receipt_items(receipt_id, barcode, description, final_price, item_price, quantity_purchased, points_earned, points_not_awarded_reason,rewards_group,rewards_product_partner_id)\n",
    "VALUES (%s, %s, %s, %s, %s, %s, %s, %s, %s, %s);\n",
    "\"\"\"\n",
    "\n",
    "# Insert data into the PostgreSQL table\n",
    "for i, row in receipt_items_df.iterrows():\n",
    "    cur.execute(insert_query, (\n",
    "        row['receipt_id'], \n",
    "        row['barcode'], \n",
    "        row['description'], \n",
    "        row['final_price'], \n",
    "        row['item_price'], \n",
    "        row['quantity_purchased'], \n",
    "        row['points_earned'],\n",
    "        row['points_not_awarded_reason'],\n",
    "        row['rewards_group'],\n",
    "        row['rewards_product_partner_id']\n",
    "    ))\n",
    "\n",
    "# Commit the transaction and close the connection\n",
    "conn.commit()\n",
    "cur.close()\n",
    "conn.close()\n"
   ]
  },
  {
   "cell_type": "code",
   "execution_count": 269,
   "id": "64995edd-247b-43e8-b69c-c2242876a21a",
   "metadata": {},
   "outputs": [],
   "source": [
    "# brands\n",
    "import psycopg2\n",
    "# Connection parameters\n",
    "conn_params = {\n",
    "    'dbname': 'Sales',\n",
    "    'user': 'postgres',\n",
    "    'password': '2000',\n",
    "    'host': 'localhost',\n",
    "    'port': 5432\n",
    "}\n",
    "# Connect to PostgreSQL\n",
    "conn = psycopg2.connect(**conn_params)\n",
    "cur = conn.cursor()\n",
    "\n",
    "# Create an insert query\n",
    "insert_query = \"\"\"\n",
    "INSERT INTO brands (barcode, category, category_code, brand_name, top_brand, brand_id, cpg_id, cpgref, brand_code)\n",
    "VALUES (%s, %s, %s, %s, %s, %s, %s, %s, %s)\n",
    "ON CONFLICT (brand_id) DO NOTHING;\n",
    "\"\"\"\n",
    "\n",
    "# Insert data into the PostgreSQL table\n",
    "for i, row in brands_df.iterrows():\n",
    "    cur.execute(insert_query, (\n",
    "        row['barcode'], \n",
    "        row['category'], \n",
    "        row['category_code'], \n",
    "        row['brand_name'], \n",
    "        row['top_brand'], \n",
    "        row['brand_id'], \n",
    "        row['cpg_id'],\n",
    "        row['cpgref'],\n",
    "        row['brand_code']\n",
    "    ))\n",
    "\n",
    "# Commit the transaction and close the connection\n",
    "conn.commit()\n",
    "cur.close()\n",
    "conn.close()\n"
   ]
  },
  {
   "cell_type": "code",
   "execution_count": 270,
   "id": "9f21aae6-c94b-49c4-9449-1fa25cb71d57",
   "metadata": {},
   "outputs": [
    {
     "data": {
      "text/html": [
       "<div>\n",
       "<style scoped>\n",
       "    .dataframe tbody tr th:only-of-type {\n",
       "        vertical-align: middle;\n",
       "    }\n",
       "\n",
       "    .dataframe tbody tr th {\n",
       "        vertical-align: top;\n",
       "    }\n",
       "\n",
       "    .dataframe thead th {\n",
       "        text-align: right;\n",
       "    }\n",
       "</style>\n",
       "<table border=\"1\" class=\"dataframe\">\n",
       "  <thead>\n",
       "    <tr style=\"text-align: right;\">\n",
       "      <th></th>\n",
       "      <th>receipt_id</th>\n",
       "      <th>user_id</th>\n",
       "      <th>create_date</th>\n",
       "      <th>date_scanned</th>\n",
       "      <th>finished_date</th>\n",
       "      <th>points_awarded_date</th>\n",
       "      <th>points_earned</th>\n",
       "      <th>purchase_date</th>\n",
       "      <th>purchased_item_count</th>\n",
       "      <th>rewards_receipt_status</th>\n",
       "      <th>total_spent</th>\n",
       "    </tr>\n",
       "  </thead>\n",
       "  <tbody>\n",
       "    <tr>\n",
       "      <th>0</th>\n",
       "      <td>5ff1e1eb0a720f0523000575</td>\n",
       "      <td>5ff1e1eacfcf6c399c274ae6</td>\n",
       "      <td>2021-01-03 15:25:31.000</td>\n",
       "      <td>2021-01-03 15:25:31.000</td>\n",
       "      <td>2021-01-03 15:25:31</td>\n",
       "      <td>2021-01-03 15:25:31</td>\n",
       "      <td>500.0</td>\n",
       "      <td>2021-01-03 00:00:00</td>\n",
       "      <td>5</td>\n",
       "      <td>FINISHED</td>\n",
       "      <td>26.00</td>\n",
       "    </tr>\n",
       "    <tr>\n",
       "      <th>1</th>\n",
       "      <td>5ff1e1bb0a720f052300056b</td>\n",
       "      <td>5ff1e194b6a9d73a3a9f1052</td>\n",
       "      <td>2021-01-03 15:24:43.000</td>\n",
       "      <td>2021-01-03 15:24:43.000</td>\n",
       "      <td>2021-01-03 15:24:43</td>\n",
       "      <td>2021-01-03 15:24:43</td>\n",
       "      <td>150.0</td>\n",
       "      <td>2021-01-02 15:24:43</td>\n",
       "      <td>2</td>\n",
       "      <td>FINISHED</td>\n",
       "      <td>11.00</td>\n",
       "    </tr>\n",
       "    <tr>\n",
       "      <th>2</th>\n",
       "      <td>5ff1e1f10a720f052300057a</td>\n",
       "      <td>5ff1e1f1cfcf6c399c274b0b</td>\n",
       "      <td>2021-01-03 15:25:37.000</td>\n",
       "      <td>2021-01-03 15:25:37.000</td>\n",
       "      <td>NULL</td>\n",
       "      <td>NULL</td>\n",
       "      <td>5.0</td>\n",
       "      <td>2021-01-03 00:00:00</td>\n",
       "      <td>1</td>\n",
       "      <td>REJECTED</td>\n",
       "      <td>10.00</td>\n",
       "    </tr>\n",
       "    <tr>\n",
       "      <th>3</th>\n",
       "      <td>5ff1e1ee0a7214ada100056f</td>\n",
       "      <td>5ff1e1eacfcf6c399c274ae6</td>\n",
       "      <td>2021-01-03 15:25:34.000</td>\n",
       "      <td>2021-01-03 15:25:34.000</td>\n",
       "      <td>2021-01-03 15:25:34</td>\n",
       "      <td>2021-01-03 15:25:34</td>\n",
       "      <td>5.0</td>\n",
       "      <td>2021-01-03 00:00:00</td>\n",
       "      <td>4</td>\n",
       "      <td>FINISHED</td>\n",
       "      <td>28.00</td>\n",
       "    </tr>\n",
       "    <tr>\n",
       "      <th>4</th>\n",
       "      <td>5ff1e1d20a7214ada1000561</td>\n",
       "      <td>5ff1e194b6a9d73a3a9f1052</td>\n",
       "      <td>2021-01-03 15:25:06.000</td>\n",
       "      <td>2021-01-03 15:25:06.000</td>\n",
       "      <td>2021-01-03 15:25:11</td>\n",
       "      <td>2021-01-03 15:25:06</td>\n",
       "      <td>5.0</td>\n",
       "      <td>2021-01-02 15:25:06</td>\n",
       "      <td>2</td>\n",
       "      <td>FINISHED</td>\n",
       "      <td>1.00</td>\n",
       "    </tr>\n",
       "    <tr>\n",
       "      <th>...</th>\n",
       "      <td>...</td>\n",
       "      <td>...</td>\n",
       "      <td>...</td>\n",
       "      <td>...</td>\n",
       "      <td>...</td>\n",
       "      <td>...</td>\n",
       "      <td>...</td>\n",
       "      <td>...</td>\n",
       "      <td>...</td>\n",
       "      <td>...</td>\n",
       "      <td>...</td>\n",
       "    </tr>\n",
       "    <tr>\n",
       "      <th>1114</th>\n",
       "      <td>603cc0630a720fde100003e6</td>\n",
       "      <td>5fc961c3b8cfca11a077dd33</td>\n",
       "      <td>2021-03-01 10:22:27.000</td>\n",
       "      <td>2021-03-01 10:22:27.000</td>\n",
       "      <td>NULL</td>\n",
       "      <td>NULL</td>\n",
       "      <td>25.0</td>\n",
       "      <td>2020-08-17 00:00:00</td>\n",
       "      <td>2</td>\n",
       "      <td>REJECTED</td>\n",
       "      <td>34.96</td>\n",
       "    </tr>\n",
       "    <tr>\n",
       "      <th>1115</th>\n",
       "      <td>603d0b710a720fde1000042a</td>\n",
       "      <td>5fc961c3b8cfca11a077dd33</td>\n",
       "      <td>2021-03-01 15:42:41.873</td>\n",
       "      <td>2021-03-01 15:42:41.873</td>\n",
       "      <td>NULL</td>\n",
       "      <td>NULL</td>\n",
       "      <td>0.0</td>\n",
       "      <td>NULL</td>\n",
       "      <td>0</td>\n",
       "      <td>SUBMITTED</td>\n",
       "      <td>0.00</td>\n",
       "    </tr>\n",
       "    <tr>\n",
       "      <th>1116</th>\n",
       "      <td>603cf5290a720fde10000413</td>\n",
       "      <td>5fc961c3b8cfca11a077dd33</td>\n",
       "      <td>2021-03-01 14:07:37.664</td>\n",
       "      <td>2021-03-01 14:07:37.664</td>\n",
       "      <td>NULL</td>\n",
       "      <td>NULL</td>\n",
       "      <td>0.0</td>\n",
       "      <td>NULL</td>\n",
       "      <td>0</td>\n",
       "      <td>SUBMITTED</td>\n",
       "      <td>0.00</td>\n",
       "    </tr>\n",
       "    <tr>\n",
       "      <th>1117</th>\n",
       "      <td>603ce7100a7217c72c000405</td>\n",
       "      <td>5fc961c3b8cfca11a077dd33</td>\n",
       "      <td>2021-03-01 13:07:28.000</td>\n",
       "      <td>2021-03-01 13:07:28.000</td>\n",
       "      <td>NULL</td>\n",
       "      <td>NULL</td>\n",
       "      <td>25.0</td>\n",
       "      <td>2020-08-17 00:00:00</td>\n",
       "      <td>2</td>\n",
       "      <td>REJECTED</td>\n",
       "      <td>34.96</td>\n",
       "    </tr>\n",
       "    <tr>\n",
       "      <th>1118</th>\n",
       "      <td>603c4fea0a7217c72c000389</td>\n",
       "      <td>5fc961c3b8cfca11a077dd33</td>\n",
       "      <td>2021-03-01 02:22:34.962</td>\n",
       "      <td>2021-03-01 02:22:34.962</td>\n",
       "      <td>NULL</td>\n",
       "      <td>NULL</td>\n",
       "      <td>0.0</td>\n",
       "      <td>NULL</td>\n",
       "      <td>0</td>\n",
       "      <td>SUBMITTED</td>\n",
       "      <td>0.00</td>\n",
       "    </tr>\n",
       "  </tbody>\n",
       "</table>\n",
       "<p>1119 rows × 11 columns</p>\n",
       "</div>"
      ],
      "text/plain": [
       "                    receipt_id                   user_id  \\\n",
       "0     5ff1e1eb0a720f0523000575  5ff1e1eacfcf6c399c274ae6   \n",
       "1     5ff1e1bb0a720f052300056b  5ff1e194b6a9d73a3a9f1052   \n",
       "2     5ff1e1f10a720f052300057a  5ff1e1f1cfcf6c399c274b0b   \n",
       "3     5ff1e1ee0a7214ada100056f  5ff1e1eacfcf6c399c274ae6   \n",
       "4     5ff1e1d20a7214ada1000561  5ff1e194b6a9d73a3a9f1052   \n",
       "...                        ...                       ...   \n",
       "1114  603cc0630a720fde100003e6  5fc961c3b8cfca11a077dd33   \n",
       "1115  603d0b710a720fde1000042a  5fc961c3b8cfca11a077dd33   \n",
       "1116  603cf5290a720fde10000413  5fc961c3b8cfca11a077dd33   \n",
       "1117  603ce7100a7217c72c000405  5fc961c3b8cfca11a077dd33   \n",
       "1118  603c4fea0a7217c72c000389  5fc961c3b8cfca11a077dd33   \n",
       "\n",
       "                 create_date            date_scanned        finished_date  \\\n",
       "0    2021-01-03 15:25:31.000 2021-01-03 15:25:31.000  2021-01-03 15:25:31   \n",
       "1    2021-01-03 15:24:43.000 2021-01-03 15:24:43.000  2021-01-03 15:24:43   \n",
       "2    2021-01-03 15:25:37.000 2021-01-03 15:25:37.000                 NULL   \n",
       "3    2021-01-03 15:25:34.000 2021-01-03 15:25:34.000  2021-01-03 15:25:34   \n",
       "4    2021-01-03 15:25:06.000 2021-01-03 15:25:06.000  2021-01-03 15:25:11   \n",
       "...                      ...                     ...                  ...   \n",
       "1114 2021-03-01 10:22:27.000 2021-03-01 10:22:27.000                 NULL   \n",
       "1115 2021-03-01 15:42:41.873 2021-03-01 15:42:41.873                 NULL   \n",
       "1116 2021-03-01 14:07:37.664 2021-03-01 14:07:37.664                 NULL   \n",
       "1117 2021-03-01 13:07:28.000 2021-03-01 13:07:28.000                 NULL   \n",
       "1118 2021-03-01 02:22:34.962 2021-03-01 02:22:34.962                 NULL   \n",
       "\n",
       "      points_awarded_date  points_earned        purchase_date  \\\n",
       "0     2021-01-03 15:25:31          500.0  2021-01-03 00:00:00   \n",
       "1     2021-01-03 15:24:43          150.0  2021-01-02 15:24:43   \n",
       "2                    NULL            5.0  2021-01-03 00:00:00   \n",
       "3     2021-01-03 15:25:34            5.0  2021-01-03 00:00:00   \n",
       "4     2021-01-03 15:25:06            5.0  2021-01-02 15:25:06   \n",
       "...                   ...            ...                  ...   \n",
       "1114                 NULL           25.0  2020-08-17 00:00:00   \n",
       "1115                 NULL            0.0                 NULL   \n",
       "1116                 NULL            0.0                 NULL   \n",
       "1117                 NULL           25.0  2020-08-17 00:00:00   \n",
       "1118                 NULL            0.0                 NULL   \n",
       "\n",
       "      purchased_item_count rewards_receipt_status  total_spent  \n",
       "0                        5               FINISHED        26.00  \n",
       "1                        2               FINISHED        11.00  \n",
       "2                        1               REJECTED        10.00  \n",
       "3                        4               FINISHED        28.00  \n",
       "4                        2               FINISHED         1.00  \n",
       "...                    ...                    ...          ...  \n",
       "1114                     2               REJECTED        34.96  \n",
       "1115                     0              SUBMITTED         0.00  \n",
       "1116                     0              SUBMITTED         0.00  \n",
       "1117                     2               REJECTED        34.96  \n",
       "1118                     0              SUBMITTED         0.00  \n",
       "\n",
       "[1119 rows x 11 columns]"
      ]
     },
     "execution_count": 270,
     "metadata": {},
     "output_type": "execute_result"
    }
   ],
   "source": [
    "receipts_df"
   ]
  },
  {
   "cell_type": "code",
   "execution_count": 276,
   "id": "f7c23350-5320-4c77-b7b7-85cd80bfcbe8",
   "metadata": {},
   "outputs": [
    {
     "data": {
      "text/html": [
       "<div>\n",
       "<style scoped>\n",
       "    .dataframe tbody tr th:only-of-type {\n",
       "        vertical-align: middle;\n",
       "    }\n",
       "\n",
       "    .dataframe tbody tr th {\n",
       "        vertical-align: top;\n",
       "    }\n",
       "\n",
       "    .dataframe thead th {\n",
       "        text-align: right;\n",
       "    }\n",
       "</style>\n",
       "<table border=\"1\" class=\"dataframe\">\n",
       "  <thead>\n",
       "    <tr style=\"text-align: right;\">\n",
       "      <th></th>\n",
       "      <th>receipt_id</th>\n",
       "      <th>user_id</th>\n",
       "      <th>create_date</th>\n",
       "      <th>date_scanned</th>\n",
       "      <th>finished_date</th>\n",
       "      <th>points_awarded_date</th>\n",
       "      <th>points_earned</th>\n",
       "      <th>purchase_date</th>\n",
       "      <th>purchased_item_count</th>\n",
       "      <th>rewards_receipt_status</th>\n",
       "      <th>total_spent</th>\n",
       "    </tr>\n",
       "  </thead>\n",
       "  <tbody>\n",
       "    <tr>\n",
       "      <th>1114</th>\n",
       "      <td>603cc0630a720fde100003e6</td>\n",
       "      <td>5fc961c3b8cfca11a077dd33</td>\n",
       "      <td>2021-03-01 10:22:27.000</td>\n",
       "      <td>2021-03-01 10:22:27.000</td>\n",
       "      <td>NULL</td>\n",
       "      <td>NULL</td>\n",
       "      <td>25.0</td>\n",
       "      <td>2020-08-17 00:00:00</td>\n",
       "      <td>2</td>\n",
       "      <td>REJECTED</td>\n",
       "      <td>34.96</td>\n",
       "    </tr>\n",
       "    <tr>\n",
       "      <th>1115</th>\n",
       "      <td>603d0b710a720fde1000042a</td>\n",
       "      <td>5fc961c3b8cfca11a077dd33</td>\n",
       "      <td>2021-03-01 15:42:41.873</td>\n",
       "      <td>2021-03-01 15:42:41.873</td>\n",
       "      <td>NULL</td>\n",
       "      <td>NULL</td>\n",
       "      <td>0.0</td>\n",
       "      <td>NULL</td>\n",
       "      <td>0</td>\n",
       "      <td>SUBMITTED</td>\n",
       "      <td>0.00</td>\n",
       "    </tr>\n",
       "    <tr>\n",
       "      <th>1116</th>\n",
       "      <td>603cf5290a720fde10000413</td>\n",
       "      <td>5fc961c3b8cfca11a077dd33</td>\n",
       "      <td>2021-03-01 14:07:37.664</td>\n",
       "      <td>2021-03-01 14:07:37.664</td>\n",
       "      <td>NULL</td>\n",
       "      <td>NULL</td>\n",
       "      <td>0.0</td>\n",
       "      <td>NULL</td>\n",
       "      <td>0</td>\n",
       "      <td>SUBMITTED</td>\n",
       "      <td>0.00</td>\n",
       "    </tr>\n",
       "    <tr>\n",
       "      <th>1117</th>\n",
       "      <td>603ce7100a7217c72c000405</td>\n",
       "      <td>5fc961c3b8cfca11a077dd33</td>\n",
       "      <td>2021-03-01 13:07:28.000</td>\n",
       "      <td>2021-03-01 13:07:28.000</td>\n",
       "      <td>NULL</td>\n",
       "      <td>NULL</td>\n",
       "      <td>25.0</td>\n",
       "      <td>2020-08-17 00:00:00</td>\n",
       "      <td>2</td>\n",
       "      <td>REJECTED</td>\n",
       "      <td>34.96</td>\n",
       "    </tr>\n",
       "    <tr>\n",
       "      <th>1118</th>\n",
       "      <td>603c4fea0a7217c72c000389</td>\n",
       "      <td>5fc961c3b8cfca11a077dd33</td>\n",
       "      <td>2021-03-01 02:22:34.962</td>\n",
       "      <td>2021-03-01 02:22:34.962</td>\n",
       "      <td>NULL</td>\n",
       "      <td>NULL</td>\n",
       "      <td>0.0</td>\n",
       "      <td>NULL</td>\n",
       "      <td>0</td>\n",
       "      <td>SUBMITTED</td>\n",
       "      <td>0.00</td>\n",
       "    </tr>\n",
       "  </tbody>\n",
       "</table>\n",
       "</div>"
      ],
      "text/plain": [
       "                    receipt_id                   user_id  \\\n",
       "1114  603cc0630a720fde100003e6  5fc961c3b8cfca11a077dd33   \n",
       "1115  603d0b710a720fde1000042a  5fc961c3b8cfca11a077dd33   \n",
       "1116  603cf5290a720fde10000413  5fc961c3b8cfca11a077dd33   \n",
       "1117  603ce7100a7217c72c000405  5fc961c3b8cfca11a077dd33   \n",
       "1118  603c4fea0a7217c72c000389  5fc961c3b8cfca11a077dd33   \n",
       "\n",
       "                 create_date            date_scanned finished_date  \\\n",
       "1114 2021-03-01 10:22:27.000 2021-03-01 10:22:27.000          NULL   \n",
       "1115 2021-03-01 15:42:41.873 2021-03-01 15:42:41.873          NULL   \n",
       "1116 2021-03-01 14:07:37.664 2021-03-01 14:07:37.664          NULL   \n",
       "1117 2021-03-01 13:07:28.000 2021-03-01 13:07:28.000          NULL   \n",
       "1118 2021-03-01 02:22:34.962 2021-03-01 02:22:34.962          NULL   \n",
       "\n",
       "     points_awarded_date  points_earned        purchase_date  \\\n",
       "1114                NULL           25.0  2020-08-17 00:00:00   \n",
       "1115                NULL            0.0                 NULL   \n",
       "1116                NULL            0.0                 NULL   \n",
       "1117                NULL           25.0  2020-08-17 00:00:00   \n",
       "1118                NULL            0.0                 NULL   \n",
       "\n",
       "      purchased_item_count rewards_receipt_status  total_spent  \n",
       "1114                     2               REJECTED        34.96  \n",
       "1115                     0              SUBMITTED         0.00  \n",
       "1116                     0              SUBMITTED         0.00  \n",
       "1117                     2               REJECTED        34.96  \n",
       "1118                     0              SUBMITTED         0.00  "
      ]
     },
     "execution_count": 276,
     "metadata": {},
     "output_type": "execute_result"
    }
   ],
   "source": [
    "receipts_df.tail()"
   ]
  },
  {
   "cell_type": "code",
   "execution_count": 280,
   "id": "35daeaea-60e3-46fe-a181-623a6339c36c",
   "metadata": {},
   "outputs": [],
   "source": []
  },
  {
   "cell_type": "code",
   "execution_count": 281,
   "id": "c6f425eb-2a69-4829-a589-e2f07b00529a",
   "metadata": {},
   "outputs": [
    {
     "data": {
      "text/html": [
       "<div>\n",
       "<style scoped>\n",
       "    .dataframe tbody tr th:only-of-type {\n",
       "        vertical-align: middle;\n",
       "    }\n",
       "\n",
       "    .dataframe tbody tr th {\n",
       "        vertical-align: top;\n",
       "    }\n",
       "\n",
       "    .dataframe thead th {\n",
       "        text-align: right;\n",
       "    }\n",
       "</style>\n",
       "<table border=\"1\" class=\"dataframe\">\n",
       "  <thead>\n",
       "    <tr style=\"text-align: right;\">\n",
       "      <th></th>\n",
       "      <th>active</th>\n",
       "      <th>role</th>\n",
       "      <th>signup_source</th>\n",
       "      <th>state</th>\n",
       "      <th>user_id</th>\n",
       "      <th>created_date</th>\n",
       "      <th>last_login</th>\n",
       "    </tr>\n",
       "  </thead>\n",
       "  <tbody>\n",
       "    <tr>\n",
       "      <th>925</th>\n",
       "      <td>Null</td>\n",
       "      <td>Null</td>\n",
       "      <td>Null</td>\n",
       "      <td>Null</td>\n",
       "      <td>6024291f58b989121e6bad5f</td>\n",
       "      <td>Null</td>\n",
       "      <td>Null</td>\n",
       "    </tr>\n",
       "    <tr>\n",
       "      <th>948</th>\n",
       "      <td>Null</td>\n",
       "      <td>Null</td>\n",
       "      <td>Null</td>\n",
       "      <td>Null</td>\n",
       "      <td>60253861efa6017a44dc6b50</td>\n",
       "      <td>Null</td>\n",
       "      <td>Null</td>\n",
       "    </tr>\n",
       "    <tr>\n",
       "      <th>956</th>\n",
       "      <td>Null</td>\n",
       "      <td>Null</td>\n",
       "      <td>Null</td>\n",
       "      <td>Null</td>\n",
       "      <td>60253891b54593795bf69242</td>\n",
       "      <td>Null</td>\n",
       "      <td>Null</td>\n",
       "    </tr>\n",
       "    <tr>\n",
       "      <th>985</th>\n",
       "      <td>Null</td>\n",
       "      <td>Null</td>\n",
       "      <td>Null</td>\n",
       "      <td>Null</td>\n",
       "      <td>60268c7bb545931ac63683af</td>\n",
       "      <td>Null</td>\n",
       "      <td>Null</td>\n",
       "    </tr>\n",
       "    <tr>\n",
       "      <th>990</th>\n",
       "      <td>Null</td>\n",
       "      <td>Null</td>\n",
       "      <td>Null</td>\n",
       "      <td>Null</td>\n",
       "      <td>60268c78efa6011bb151077d</td>\n",
       "      <td>Null</td>\n",
       "      <td>Null</td>\n",
       "    </tr>\n",
       "  </tbody>\n",
       "</table>\n",
       "</div>"
      ],
      "text/plain": [
       "    active  role signup_source state                   user_id created_date  \\\n",
       "925   Null  Null          Null  Null  6024291f58b989121e6bad5f         Null   \n",
       "948   Null  Null          Null  Null  60253861efa6017a44dc6b50         Null   \n",
       "956   Null  Null          Null  Null  60253891b54593795bf69242         Null   \n",
       "985   Null  Null          Null  Null  60268c7bb545931ac63683af         Null   \n",
       "990   Null  Null          Null  Null  60268c78efa6011bb151077d         Null   \n",
       "\n",
       "    last_login  \n",
       "925       Null  \n",
       "948       Null  \n",
       "956       Null  \n",
       "985       Null  \n",
       "990       Null  "
      ]
     },
     "execution_count": 281,
     "metadata": {},
     "output_type": "execute_result"
    }
   ],
   "source": []
  },
  {
   "cell_type": "code",
   "execution_count": null,
   "id": "3b71ff86-3b59-4a9d-871d-f3fcc25ad291",
   "metadata": {},
   "outputs": [],
   "source": []
  }
 ],
 "metadata": {
  "kernelspec": {
   "display_name": "Python 3 (ipykernel)",
   "language": "python",
   "name": "python3"
  },
  "language_info": {
   "codemirror_mode": {
    "name": "ipython",
    "version": 3
   },
   "file_extension": ".py",
   "mimetype": "text/x-python",
   "name": "python",
   "nbconvert_exporter": "python",
   "pygments_lexer": "ipython3",
   "version": "3.9.19"
  }
 },
 "nbformat": 4,
 "nbformat_minor": 5
}
